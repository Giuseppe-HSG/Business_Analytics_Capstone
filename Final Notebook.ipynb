{
  "cells": [
    {
      "cell_type": "markdown",
      "source": [
        "#Predicting burnout in employees\n",
        "\n",
        "Description of variables (from 2021_03_08_Data_processing.pdf, provided with the data) \n",
        "\n",
        "Verhoef, N. C., de Ruiter, M., Blomme, R. J., & Curfs, E. C. (2021, May 25). Burnout among Dutch general practitioners. Mendeley Data. https://data.mendeley.com/datasets/xz9wwsfbxk/2\n"
      ],
      "metadata": {
        "id": "Gf-okOajXcD4"
      }
    },
    {
      "cell_type": "markdown",
      "source": [
        "#1) First look at data and imputation of missing variables\n",
        "\n",
        "\n"
      ],
      "metadata": {
        "id": "YfvL-dBBcRp4"
      }
    },
    {
      "cell_type": "code",
      "execution_count": null,
      "metadata": {
        "id": "YYEOrBFmQHGI"
      },
      "outputs": [],
      "source": [
        "import pandas as pd\n",
        "import numpy as np"
      ]
    },
    {
      "cell_type": "code",
      "source": [
        "pip install pyreadstat"
      ],
      "metadata": {
        "colab": {
          "base_uri": "https://localhost:8080/"
        },
        "id": "rO0t-Zs9S0vS",
        "outputId": "396a5447-335a-4576-c923-af8ae0680e67"
      },
      "execution_count": null,
      "outputs": [
        {
          "output_type": "stream",
          "name": "stdout",
          "text": [
            "Looking in indexes: https://pypi.org/simple, https://us-python.pkg.dev/colab-wheels/public/simple/\n",
            "Collecting pyreadstat\n",
            "  Downloading pyreadstat-1.1.6-cp37-cp37m-manylinux_2_17_x86_64.manylinux2014_x86_64.whl (2.5 MB)\n",
            "\u001b[K     |████████████████████████████████| 2.5 MB 5.3 MB/s \n",
            "\u001b[?25hRequirement already satisfied: pandas>=1.2.0 in /usr/local/lib/python3.7/dist-packages (from pyreadstat) (1.3.5)\n",
            "Requirement already satisfied: pytz>=2017.3 in /usr/local/lib/python3.7/dist-packages (from pandas>=1.2.0->pyreadstat) (2022.1)\n",
            "Requirement already satisfied: python-dateutil>=2.7.3 in /usr/local/lib/python3.7/dist-packages (from pandas>=1.2.0->pyreadstat) (2.8.2)\n",
            "Requirement already satisfied: numpy>=1.17.3 in /usr/local/lib/python3.7/dist-packages (from pandas>=1.2.0->pyreadstat) (1.21.6)\n",
            "Requirement already satisfied: six>=1.5 in /usr/local/lib/python3.7/dist-packages (from python-dateutil>=2.7.3->pandas>=1.2.0->pyreadstat) (1.15.0)\n",
            "Installing collected packages: pyreadstat\n",
            "Successfully installed pyreadstat-1.1.6\n"
          ]
        }
      ]
    },
    {
      "cell_type": "code",
      "execution_count": null,
      "metadata": {
        "id": "60jY36NpQZFO"
      },
      "outputs": [],
      "source": [
        "import pyreadstat"
      ]
    },
    {
      "cell_type": "code",
      "execution_count": null,
      "metadata": {
        "id": "Se3nJSzFQis7"
      },
      "outputs": [],
      "source": [
        "df, meta = pyreadstat.read_sav('masterT1Causes - kopie.sav')  \n"
      ]
    },
    {
      "cell_type": "code",
      "source": [
        "df.info()  "
      ],
      "metadata": {
        "colab": {
          "base_uri": "https://localhost:8080/"
        },
        "id": "7AuNo6TrQO7j",
        "outputId": "10852ebf-8a4c-4e70-f0bf-3587bf4b6302"
      },
      "execution_count": null,
      "outputs": [
        {
          "output_type": "stream",
          "name": "stdout",
          "text": [
            "<class 'pandas.core.frame.DataFrame'>\n",
            "RangeIndex: 900 entries, 0 to 899\n",
            "Data columns (total 100 columns):\n",
            " #   Column  Non-Null Count  Dtype  \n",
            "---  ------  --------------  -----  \n",
            " 0   ID      900 non-null    float64\n",
            " 1   q0001   178 non-null    float64\n",
            " 2   q0002   178 non-null    float64\n",
            " 3   q0003   178 non-null    float64\n",
            " 4   q0004   178 non-null    float64\n",
            " 5   q0005   178 non-null    float64\n",
            " 6   q0006   178 non-null    float64\n",
            " 7   q0007   177 non-null    float64\n",
            " 8   q0008   177 non-null    float64\n",
            " 9   q0009   177 non-null    float64\n",
            " 10  q0010   177 non-null    float64\n",
            " 11  q0011   177 non-null    float64\n",
            " 12  q0012   177 non-null    float64\n",
            " 13  q0013   177 non-null    float64\n",
            " 14  q0014   176 non-null    float64\n",
            " 15  q0015   176 non-null    float64\n",
            " 16  q0016   176 non-null    float64\n",
            " 17  q0017   175 non-null    float64\n",
            " 18  q0018   175 non-null    float64\n",
            " 19  q0019   175 non-null    float64\n",
            " 20  q0020   175 non-null    float64\n",
            " 21  q0021   175 non-null    float64\n",
            " 22  q0022   175 non-null    float64\n",
            " 23  q0023   175 non-null    float64\n",
            " 24  q0024   175 non-null    float64\n",
            " 25  q0025   175 non-null    float64\n",
            " 26  q0026   175 non-null    float64\n",
            " 27  q0027   175 non-null    float64\n",
            " 28  q0028   175 non-null    float64\n",
            " 29  q0029   175 non-null    float64\n",
            " 30  q0030   175 non-null    float64\n",
            " 31  q0031   172 non-null    float64\n",
            " 32  q0032   172 non-null    float64\n",
            " 33  q0033   172 non-null    float64\n",
            " 34  q0034   172 non-null    float64\n",
            " 35  q0035   172 non-null    float64\n",
            " 36  q0036   172 non-null    float64\n",
            " 37  q0037   172 non-null    float64\n",
            " 38  q0038   172 non-null    float64\n",
            " 39  q0039   172 non-null    float64\n",
            " 40  q0040   172 non-null    float64\n",
            " 41  q0041   172 non-null    float64\n",
            " 42  q0042   172 non-null    float64\n",
            " 43  q0043   172 non-null    float64\n",
            " 44  q0044   168 non-null    float64\n",
            " 45  q0045   168 non-null    float64\n",
            " 46  q0046   168 non-null    float64\n",
            " 47  q0047   168 non-null    float64\n",
            " 48  q0048   168 non-null    float64\n",
            " 49  q0049   168 non-null    float64\n",
            " 50  q0050   168 non-null    float64\n",
            " 51  q0051   168 non-null    float64\n",
            " 52  q0052   168 non-null    float64\n",
            " 53  q0053   168 non-null    float64\n",
            " 54  q0054   168 non-null    float64\n",
            " 55  q0055   168 non-null    float64\n",
            " 56  q0056   168 non-null    float64\n",
            " 57  q0057   168 non-null    float64\n",
            " 58  q0058   168 non-null    float64\n",
            " 59  q0059   168 non-null    float64\n",
            " 60  q0060   168 non-null    float64\n",
            " 61  q0061   168 non-null    float64\n",
            " 62  q0062   166 non-null    float64\n",
            " 63  q0063   166 non-null    float64\n",
            " 64  q0064   166 non-null    float64\n",
            " 65  q0065   166 non-null    float64\n",
            " 66  q0066   166 non-null    float64\n",
            " 67  q0067   166 non-null    float64\n",
            " 68  q0068   166 non-null    float64\n",
            " 69  q0069   166 non-null    float64\n",
            " 70  q0070   166 non-null    float64\n",
            " 71  q0071   166 non-null    float64\n",
            " 72  q0072   166 non-null    float64\n",
            " 73  q0073   166 non-null    float64\n",
            " 74  q0074   166 non-null    float64\n",
            " 75  q0075   164 non-null    float64\n",
            " 76  q0076   164 non-null    float64\n",
            " 77  q0077   164 non-null    float64\n",
            " 78  q0078   164 non-null    float64\n",
            " 79  q0079   164 non-null    float64\n",
            " 80  q0080   164 non-null    float64\n",
            " 81  q0081   164 non-null    float64\n",
            " 82  q0082   164 non-null    float64\n",
            " 83  q0083   164 non-null    float64\n",
            " 84  q0084   164 non-null    float64\n",
            " 85  q0085   164 non-null    float64\n",
            " 86  q0086   164 non-null    float64\n",
            " 87  q0087   164 non-null    float64\n",
            " 88  q0088   160 non-null    float64\n",
            " 89  q0089   160 non-null    float64\n",
            " 90  q0090   160 non-null    float64\n",
            " 91  q0091   160 non-null    float64\n",
            " 92  q0092   160 non-null    float64\n",
            " 93  q0093   160 non-null    float64\n",
            " 94  q0094   160 non-null    float64\n",
            " 95  q0095   160 non-null    float64\n",
            " 96  q0096   160 non-null    float64\n",
            " 97  q0097   160 non-null    float64\n",
            " 98  q0098   160 non-null    float64\n",
            " 99  q0099   160 non-null    float64\n",
            "dtypes: float64(100)\n",
            "memory usage: 703.2 KB\n"
          ]
        }
      ]
    },
    {
      "cell_type": "code",
      "execution_count": null,
      "metadata": {
        "id": "cdIvL4kFT3bO"
      },
      "outputs": [],
      "source": [
        "suplist = []      \n",
        "for x in range(178,900):   \n",
        "  suplist.append(int(x))"
      ]
    },
    {
      "cell_type": "code",
      "execution_count": null,
      "metadata": {
        "id": "MDvC9y9ZQrrJ"
      },
      "outputs": [],
      "source": [
        "df = df.drop(suplist, inplace = False)   #deleting rows with all missing values "
      ]
    },
    {
      "cell_type": "code",
      "execution_count": null,
      "metadata": {
        "id": "-zYy5dFMQxAg"
      },
      "outputs": [],
      "source": [
        "from sklearn.impute import KNNImputer     #impute missing values to rows 0-177"
      ]
    },
    {
      "cell_type": "code",
      "execution_count": null,
      "metadata": {
        "colab": {
          "base_uri": "https://localhost:8080/"
        },
        "id": "iEf-tzfmVqbS",
        "outputId": "9352c87d-471c-4fef-8f1f-62c7fcdc0526"
      },
      "outputs": [
        {
          "output_type": "execute_result",
          "data": {
            "text/plain": [
              "KNNImputer()"
            ]
          },
          "metadata": {},
          "execution_count": 11
        }
      ],
      "source": [
        "imputer = KNNImputer()\n",
        "imputer.fit(df)"
      ]
    },
    {
      "cell_type": "code",
      "execution_count": null,
      "metadata": {
        "id": "bJGLN80VV4SM"
      },
      "outputs": [],
      "source": [
        "dataset = imputer.transform(df)"
      ]
    },
    {
      "cell_type": "code",
      "execution_count": null,
      "metadata": {
        "id": "6gbSmFQ9VtpV"
      },
      "outputs": [],
      "source": [
        "names = imputer.feature_names_in_\n",
        "dataset = pd.DataFrame(dataset, columns = names, index = df.index)"
      ]
    },
    {
      "cell_type": "markdown",
      "metadata": {
        "id": "FFiyief6-jZg"
      },
      "source": [
        "# 2) Quantitative analysis and selection of variables"
      ]
    },
    {
      "cell_type": "markdown",
      "metadata": {
        "id": "zg6lhh0wzOaK"
      },
      "source": [
        "## 2.1) Method 1: examining correlations between variables since there are many "
      ]
    },
    {
      "cell_type": "code",
      "execution_count": null,
      "metadata": {
        "colab": {
          "base_uri": "https://localhost:8080/",
          "height": 308
        },
        "id": "tFQLuM3db8Wj",
        "outputId": "957095f7-0aae-4059-e3ef-1624d87ee3f5"
      },
      "outputs": [
        {
          "output_type": "execute_result",
          "data": {
            "text/plain": [
              "<function matplotlib.pyplot.show>"
            ]
          },
          "metadata": {},
          "execution_count": 14
        },
        {
          "output_type": "display_data",
          "data": {
            "text/plain": [
              "<Figure size 432x288 with 2 Axes>"
            ],
            "image/png": "[encoded data removed]"
          },
          "metadata": {
            "needs_background": "light"
          }
        }
      ],
      "source": [
        "correlations = dataset.corr()\n",
        "import seaborn as sns\n",
        "import matplotlib.pyplot as plt\n",
        "sns.heatmap(correlations)\n",
        "plt.show"
      ]
    },
    {
      "cell_type": "code",
      "execution_count": null,
      "metadata": {
        "id": "Zp5_F54d63gj"
      },
      "outputs": [],
      "source": [
        "pd.set_option('display.max_rows', 500)      #to see all the rows and columns of the dataset\n",
        "pd.set_option('display.max_columns', 500)\n",
        "pd.set_option('display.width', 1000)"
      ]
    },
    {
      "cell_type": "code",
      "execution_count": null,
      "metadata": {
        "colab": {
          "base_uri": "https://localhost:8080/"
        },
        "id": "R2y63HF1XYq6",
        "outputId": "84505d84-b991-4486-a47c-924a0c0c55b4"
      },
      "outputs": [
        {
          "output_type": "stream",
          "name": "stdout",
          "text": [
            "q0051  q0041   -0.625252\n",
            "q0045  q0038   -0.616740\n",
            "q0038  q0051   -0.606477\n",
            "q0041  q0045   -0.605775\n",
            "q0044  q0038   -0.603817\n",
            "                  ...   \n",
            "       q0045    0.781866\n",
            "q0069  q0068    0.788863\n",
            "q0051  q0059    0.802260\n",
            "       q0044    0.807854\n",
            "ID     ID       1.000000\n",
            "Length: 4951, dtype: float64\n"
          ]
        }
      ],
      "source": [
        "corrlist = dataset.corr().unstack().sort_values().drop_duplicates()\n",
        "print(corrlist)"
      ]
    },
    {
      "cell_type": "code",
      "execution_count": null,
      "metadata": {
        "colab": {
          "base_uri": "https://localhost:8080/"
        },
        "id": "UAdt0_a-Xc6G",
        "outputId": "6d4192b7-0560-46d2-ac05-077062b46d4a"
      },
      "outputs": [
        {
          "output_type": "execute_result",
          "data": {
            "text/plain": [
              "q0021  q0020    0.715783\n",
              "q0067  q0069    0.735485\n",
              "q0051  q0045    0.736253\n",
              "q0059  q0044    0.751508\n",
              "q0081  q0080    0.753974\n",
              "q0044  q0045    0.781866\n",
              "q0069  q0068    0.788863\n",
              "q0051  q0059    0.802260\n",
              "       q0044    0.807854\n",
              "ID     ID       1.000000\n",
              "dtype: float64"
            ]
          },
          "metadata": {},
          "execution_count": 17
        }
      ],
      "source": [
        "corrlist[4941:4951]  #positive correlations above 0.7, need to be aware of potential multicollinearity problems"
      ]
    },
    {
      "cell_type": "markdown",
      "metadata": {
        "id": "Dx1-V8vT7dN_"
      },
      "source": [
        "Since many of the high correlations are for questions in the same categories, one solution could be grouping those variables together\n",
        "\n",
        "e.g. work pace and quantity = (q0001-q0006)\n",
        "\n",
        "\n"
      ]
    },
    {
      "cell_type": "markdown",
      "metadata": {
        "id": "20RR3S25zVaj"
      },
      "source": [
        "## 2.2) Method 2: examining correlations between q0051 (depent variable) and others"
      ]
    },
    {
      "cell_type": "markdown",
      "metadata": {
        "id": "8jef8RTh-O2E"
      },
      "source": [
        "**Values between 0 and 0.3** (0 and −0.3) indicate a **weak positive **(negative) linear relationship through a shaky linear rule.\n",
        "\n",
        "\n",
        "**Values between 0.3 and 0.7** (0.3 and −0.7) indicate a **moderate positive** (negative) linear relationship through a fuzzy-firm linear rule.\n",
        "\n",
        "\n",
        "**Values between 0.7 and 1.0**  (−0.7 and −1.0) indicate a strong positive (negative) linear relationship through a firm linear rule.\n",
        "\n",
        "*Bruce Ratner Journal of Targeting, Measurement and Analysis for Marketing volume 17, pages139–142 (2009)*"
      ]
    },
    {
      "cell_type": "code",
      "execution_count": null,
      "metadata": {
        "id": "dMkc1F6t6Uwl"
      },
      "outputs": [],
      "source": [
        "realgs = correlations['q0051'].where(correlations['q0051'].abs() >= 0.3)"
      ]
    },
    {
      "cell_type": "code",
      "execution_count": null,
      "metadata": {
        "colab": {
          "base_uri": "https://localhost:8080/"
        },
        "id": "MrpxOFKL57nF",
        "outputId": "9a1b3036-d516-4c59-b8e9-08a95d75974b"
      },
      "outputs": [
        {
          "output_type": "stream",
          "name": "stdout",
          "text": [
            "q0001   -0.348510\n",
            "q0002   -0.368290\n",
            "q0003   -0.433520\n",
            "q0005   -0.432362\n",
            "q0006   -0.600572\n",
            "q0031   -0.469782\n",
            "q0032   -0.389581\n",
            "q0037   -0.338742\n",
            "q0038   -0.606477\n",
            "q0039   -0.322980\n",
            "q0041   -0.625252\n",
            "q0042   -0.476409\n",
            "q0044    0.807854\n",
            "q0045    0.736253\n",
            "q0046    0.590217\n",
            "q0049    0.509776\n",
            "q0051    1.000000\n",
            "q0053    0.513781\n",
            "q0054    0.597592\n",
            "q0055    0.686898\n",
            "q0056    0.500008\n",
            "q0059    0.802260\n",
            "q0062    0.318018\n",
            "q0064    0.307891\n",
            "q0068    0.342842\n",
            "q0072    0.329393\n",
            "q0073    0.452923\n",
            "q0074    0.316718\n",
            "Name: q0051, dtype: float64\n"
          ]
        }
      ],
      "source": [
        "print(realgs.dropna())"
      ]
    },
    {
      "cell_type": "markdown",
      "metadata": {
        "id": "Zj8_flMBzaxI"
      },
      "source": [
        "## 2.3) Selection of variables \n",
        "\n",
        "Quantitative: drop variables that don't show a linear relationship with q0051 (those not included in the list above)\n",
        "\n",
        "Qualitative: additionally drop questions from the list that don't make sense qualitatively (q0062-q0074). Either question formulation was confusing or not clearly interpretable for our analysis\n",
        "\n",
        "Final dataset can be found in the section below\n"
      ]
    },
    {
      "cell_type": "markdown",
      "metadata": {
        "id": "OFr5pxEtyK-t"
      },
      "source": [
        "#3) Dataset Preparation"
      ]
    },
    {
      "cell_type": "code",
      "execution_count": null,
      "metadata": {
        "id": "ef8YSWzKDzsG"
      },
      "outputs": [],
      "source": [
        "data = dataset[[\"q0001\",\"q0002\",\"q0003\",\"q0005\",\"q0006\",\"q0031\",\"q0032\",\"q0037\",\"q0038\",\"q0039\",\"q0041\",\"q0042\",\"q0043\",\"q0044\",\"q0045\",\"q0046\",\"q0049\",\"q0051\",\"q0053\",\"q0054\",\"q0055\",\"q0056\",\"q0059\",\"q0099\"]]"
      ]
    },
    {
      "cell_type": "code",
      "execution_count": null,
      "metadata": {
        "colab": {
          "base_uri": "https://localhost:8080/"
        },
        "id": "sN7F3fPhFHAQ",
        "outputId": "38ef2881-2b7b-472d-932a-98277d7006f9"
      },
      "outputs": [
        {
          "output_type": "stream",
          "name": "stdout",
          "text": [
            "<class 'pandas.core.frame.DataFrame'>\n",
            "Int64Index: 178 entries, 0 to 177\n",
            "Data columns (total 24 columns):\n",
            " #   Column  Non-Null Count  Dtype  \n",
            "---  ------  --------------  -----  \n",
            " 0   q0001   178 non-null    float64\n",
            " 1   q0002   178 non-null    float64\n",
            " 2   q0003   178 non-null    float64\n",
            " 3   q0005   178 non-null    float64\n",
            " 4   q0006   178 non-null    float64\n",
            " 5   q0031   178 non-null    float64\n",
            " 6   q0032   178 non-null    float64\n",
            " 7   q0037   178 non-null    float64\n",
            " 8   q0038   178 non-null    float64\n",
            " 9   q0039   178 non-null    float64\n",
            " 10  q0041   178 non-null    float64\n",
            " 11  q0042   178 non-null    float64\n",
            " 12  q0043   178 non-null    float64\n",
            " 13  q0044   178 non-null    float64\n",
            " 14  q0045   178 non-null    float64\n",
            " 15  q0046   178 non-null    float64\n",
            " 16  q0049   178 non-null    float64\n",
            " 17  q0051   178 non-null    float64\n",
            " 18  q0053   178 non-null    float64\n",
            " 19  q0054   178 non-null    float64\n",
            " 20  q0055   178 non-null    float64\n",
            " 21  q0056   178 non-null    float64\n",
            " 22  q0059   178 non-null    float64\n",
            " 23  q0099   178 non-null    float64\n",
            "dtypes: float64(24)\n",
            "memory usage: 34.8 KB\n"
          ]
        }
      ],
      "source": [
        "data.info()"
      ]
    },
    {
      "cell_type": "markdown",
      "source": [
        "##3.1) Flipping the scales"
      ],
      "metadata": {
        "id": "6bOy83T0f7Z8"
      }
    },
    {
      "cell_type": "markdown",
      "source": [
        "Given the different answer scales of the questions, for example:\n",
        "\n",
        "q0001: Do you have too much work to do? 1-Always and 4- Never\n",
        "\n",
        "vs\n",
        "\n",
        "q0044: I feel mentally exhausted by my work. 1- Never and 7- Always\n",
        "\n",
        "we decided to flip the scales so that all answer with a negative connotation  will be assigned the highest value "
      ],
      "metadata": {
        "id": "N-FvepA_eo8n"
      }
    },
    {
      "cell_type": "code",
      "source": [
        "data[\"q0001\"] = (5- data[\"q0001\"] ) #always have too much work to do is now 4 (instead of 1) \n",
        "data[\"q0002\"] = (5- data[\"q0002\"] )\n",
        "data[\"q0003\"] = (5- data[\"q0003\"] )\n",
        "data[\"q0005\"] = (5- data[\"q0005\"] )\n",
        "data[\"q0006\"] = (5- data[\"q0006\"])"
      ],
      "metadata": {
        "colab": {
          "base_uri": "https://localhost:8080/"
        },
        "id": "xywxaXsMf7_Z",
        "outputId": "0922aef7-3084-484f-f194-81e3e1e4548e"
      },
      "execution_count": null,
      "outputs": [
        {
          "output_type": "stream",
          "name": "stderr",
          "text": [
            "/usr/local/lib/python3.7/dist-packages/ipykernel_launcher.py:1: SettingWithCopyWarning: \n",
            "A value is trying to be set on a copy of a slice from a DataFrame.\n",
            "Try using .loc[row_indexer,col_indexer] = value instead\n",
            "\n",
            "See the caveats in the documentation: https://pandas.pydata.org/pandas-docs/stable/user_guide/indexing.html#returning-a-view-versus-a-copy\n",
            "  \"\"\"Entry point for launching an IPython kernel.\n",
            "/usr/local/lib/python3.7/dist-packages/ipykernel_launcher.py:2: SettingWithCopyWarning: \n",
            "A value is trying to be set on a copy of a slice from a DataFrame.\n",
            "Try using .loc[row_indexer,col_indexer] = value instead\n",
            "\n",
            "See the caveats in the documentation: https://pandas.pydata.org/pandas-docs/stable/user_guide/indexing.html#returning-a-view-versus-a-copy\n",
            "  \n",
            "/usr/local/lib/python3.7/dist-packages/ipykernel_launcher.py:3: SettingWithCopyWarning: \n",
            "A value is trying to be set on a copy of a slice from a DataFrame.\n",
            "Try using .loc[row_indexer,col_indexer] = value instead\n",
            "\n",
            "See the caveats in the documentation: https://pandas.pydata.org/pandas-docs/stable/user_guide/indexing.html#returning-a-view-versus-a-copy\n",
            "  This is separate from the ipykernel package so we can avoid doing imports until\n",
            "/usr/local/lib/python3.7/dist-packages/ipykernel_launcher.py:4: SettingWithCopyWarning: \n",
            "A value is trying to be set on a copy of a slice from a DataFrame.\n",
            "Try using .loc[row_indexer,col_indexer] = value instead\n",
            "\n",
            "See the caveats in the documentation: https://pandas.pydata.org/pandas-docs/stable/user_guide/indexing.html#returning-a-view-versus-a-copy\n",
            "  after removing the cwd from sys.path.\n",
            "/usr/local/lib/python3.7/dist-packages/ipykernel_launcher.py:5: SettingWithCopyWarning: \n",
            "A value is trying to be set on a copy of a slice from a DataFrame.\n",
            "Try using .loc[row_indexer,col_indexer] = value instead\n",
            "\n",
            "See the caveats in the documentation: https://pandas.pydata.org/pandas-docs/stable/user_guide/indexing.html#returning-a-view-versus-a-copy\n",
            "  \"\"\"\n"
          ]
        }
      ]
    },
    {
      "cell_type": "code",
      "source": [
        "data[\"q0031\"] = (5- data[\"q0031\"] ) #always irritable at home because work is demanding is now 4 (instead of 1) \n",
        "data[\"q0032\"] = (5- data[\"q0032\"] )\n",
        "data[\"q0037\"] = (5- data[\"q0037\"] )\n",
        "data[\"q0038\"] = (5- data[\"q0038\"] )\n",
        "data[\"q0039\"] = (5- data[\"q0039\"] )\n",
        "data[\"q0041\"] = (5- data[\"q0041\"] )\n",
        "data[\"q0042\"] = (5- data[\"q0042\"] )\n",
        "#43: how often does it happen that after a pleasant working day/workweek, you would like to do more activities wiht your partner/family/: 1- always(good), 4- never(bad) -> no need to flip"
      ],
      "metadata": {
        "id": "fTHUZcUrgsNu",
        "colab": {
          "base_uri": "https://localhost:8080/"
        },
        "outputId": "486e73e6-0912-437e-bd82-225bd7cffe41"
      },
      "execution_count": null,
      "outputs": [
        {
          "output_type": "stream",
          "name": "stderr",
          "text": [
            "/usr/local/lib/python3.7/dist-packages/ipykernel_launcher.py:1: SettingWithCopyWarning: \n",
            "A value is trying to be set on a copy of a slice from a DataFrame.\n",
            "Try using .loc[row_indexer,col_indexer] = value instead\n",
            "\n",
            "See the caveats in the documentation: https://pandas.pydata.org/pandas-docs/stable/user_guide/indexing.html#returning-a-view-versus-a-copy\n",
            "  \"\"\"Entry point for launching an IPython kernel.\n",
            "/usr/local/lib/python3.7/dist-packages/ipykernel_launcher.py:2: SettingWithCopyWarning: \n",
            "A value is trying to be set on a copy of a slice from a DataFrame.\n",
            "Try using .loc[row_indexer,col_indexer] = value instead\n",
            "\n",
            "See the caveats in the documentation: https://pandas.pydata.org/pandas-docs/stable/user_guide/indexing.html#returning-a-view-versus-a-copy\n",
            "  \n",
            "/usr/local/lib/python3.7/dist-packages/ipykernel_launcher.py:3: SettingWithCopyWarning: \n",
            "A value is trying to be set on a copy of a slice from a DataFrame.\n",
            "Try using .loc[row_indexer,col_indexer] = value instead\n",
            "\n",
            "See the caveats in the documentation: https://pandas.pydata.org/pandas-docs/stable/user_guide/indexing.html#returning-a-view-versus-a-copy\n",
            "  This is separate from the ipykernel package so we can avoid doing imports until\n",
            "/usr/local/lib/python3.7/dist-packages/ipykernel_launcher.py:4: SettingWithCopyWarning: \n",
            "A value is trying to be set on a copy of a slice from a DataFrame.\n",
            "Try using .loc[row_indexer,col_indexer] = value instead\n",
            "\n",
            "See the caveats in the documentation: https://pandas.pydata.org/pandas-docs/stable/user_guide/indexing.html#returning-a-view-versus-a-copy\n",
            "  after removing the cwd from sys.path.\n",
            "/usr/local/lib/python3.7/dist-packages/ipykernel_launcher.py:5: SettingWithCopyWarning: \n",
            "A value is trying to be set on a copy of a slice from a DataFrame.\n",
            "Try using .loc[row_indexer,col_indexer] = value instead\n",
            "\n",
            "See the caveats in the documentation: https://pandas.pydata.org/pandas-docs/stable/user_guide/indexing.html#returning-a-view-versus-a-copy\n",
            "  \"\"\"\n",
            "/usr/local/lib/python3.7/dist-packages/ipykernel_launcher.py:6: SettingWithCopyWarning: \n",
            "A value is trying to be set on a copy of a slice from a DataFrame.\n",
            "Try using .loc[row_indexer,col_indexer] = value instead\n",
            "\n",
            "See the caveats in the documentation: https://pandas.pydata.org/pandas-docs/stable/user_guide/indexing.html#returning-a-view-versus-a-copy\n",
            "  \n",
            "/usr/local/lib/python3.7/dist-packages/ipykernel_launcher.py:7: SettingWithCopyWarning: \n",
            "A value is trying to be set on a copy of a slice from a DataFrame.\n",
            "Try using .loc[row_indexer,col_indexer] = value instead\n",
            "\n",
            "See the caveats in the documentation: https://pandas.pydata.org/pandas-docs/stable/user_guide/indexing.html#returning-a-view-versus-a-copy\n",
            "  import sys\n"
          ]
        }
      ]
    },
    {
      "cell_type": "code",
      "source": [
        "data.head() #now high values are 'negative' for all questions"
      ],
      "metadata": {
        "id": "zmIEOXyVhL_n",
        "colab": {
          "base_uri": "https://localhost:8080/",
          "height": 235
        },
        "outputId": "e1a5fc53-3c96-4c92-b83d-40a7444f585c"
      },
      "execution_count": null,
      "outputs": [
        {
          "output_type": "execute_result",
          "data": {
            "text/plain": [
              "   q0001  q0002  q0003  q0005  q0006  q0031  q0032  q0037  q0038  q0039  ...  \\\n",
              "0    4.0    4.0    4.0    2.0    3.0    3.0    3.0    3.0    2.0    3.0  ...   \n",
              "1    2.0    3.0    2.0    2.0    2.0    2.0    2.0    2.0    2.0    2.0  ...   \n",
              "2    4.0    4.0    4.0    2.0    2.0    3.0    2.0    2.0    3.0    2.0  ...   \n",
              "3    3.0    3.0    3.0    3.0    2.0    2.0    3.0    3.0    3.0    3.0  ...   \n",
              "4    3.0    2.0    1.0    3.0    2.0    1.0    2.0    3.0    3.0    3.0  ...   \n",
              "\n",
              "   q0045  q0046  q0049  q0051  q0053  q0054  q0055  q0056  q0059  q0099  \n",
              "0    5.0    3.0    3.0    4.0    5.0    3.0    4.0    4.0    2.0    5.0  \n",
              "1    3.0    3.0    3.0    2.0    3.0    3.0    3.0    4.0    3.0    4.0  \n",
              "2    4.0    3.0    4.0    4.0    2.0    3.0    2.0    5.0    3.0    5.0  \n",
              "3    5.0    5.0    4.0    3.0    3.0    3.0    2.0    5.0    5.0    4.0  \n",
              "4    3.0    2.0    2.0    3.0    1.0    1.0    2.0    5.0    3.0    3.0  \n",
              "\n",
              "[5 rows x 24 columns]"
            ],
            "text/html": [
              "\n",
              "  <div id=\"df-a49ec20d-8490-4b04-a518-f41127048014\">\n",
              "    <div class=\"colab-df-container\">\n",
              "      <div>\n",
              "<style scoped>\n",
              "    .dataframe tbody tr th:only-of-type {\n",
              "        vertical-align: middle;\n",
              "    }\n",
              "\n",
              "    .dataframe tbody tr th {\n",
              "        vertical-align: top;\n",
              "    }\n",
              "\n",
              "    .dataframe thead th {\n",
              "        text-align: right;\n",
              "    }\n",
              "</style>\n",
              "<table border=\"1\" class=\"dataframe\">\n",
              "  <thead>\n",
              "    <tr style=\"text-align: right;\">\n",
              "      <th></th>\n",
              "      <th>q0001</th>\n",
              "      <th>q0002</th>\n",
              "      <th>q0003</th>\n",
              "      <th>q0005</th>\n",
              "      <th>q0006</th>\n",
              "      <th>q0031</th>\n",
              "      <th>q0032</th>\n",
              "      <th>q0037</th>\n",
              "      <th>q0038</th>\n",
              "      <th>q0039</th>\n",
              "      <th>...</th>\n",
              "      <th>q0045</th>\n",
              "      <th>q0046</th>\n",
              "      <th>q0049</th>\n",
              "      <th>q0051</th>\n",
              "      <th>q0053</th>\n",
              "      <th>q0054</th>\n",
              "      <th>q0055</th>\n",
              "      <th>q0056</th>\n",
              "      <th>q0059</th>\n",
              "      <th>q0099</th>\n",
              "    </tr>\n",
              "  </thead>\n",
              "  <tbody>\n",
              "    <tr>\n",
              "      <th>0</th>\n",
              "      <td>4.0</td>\n",
              "      <td>4.0</td>\n",
              "      <td>4.0</td>\n",
              "      <td>2.0</td>\n",
              "      <td>3.0</td>\n",
              "      <td>3.0</td>\n",
              "      <td>3.0</td>\n",
              "      <td>3.0</td>\n",
              "      <td>2.0</td>\n",
              "      <td>3.0</td>\n",
              "      <td>...</td>\n",
              "      <td>5.0</td>\n",
              "      <td>3.0</td>\n",
              "      <td>3.0</td>\n",
              "      <td>4.0</td>\n",
              "      <td>5.0</td>\n",
              "      <td>3.0</td>\n",
              "      <td>4.0</td>\n",
              "      <td>4.0</td>\n",
              "      <td>2.0</td>\n",
              "      <td>5.0</td>\n",
              "    </tr>\n",
              "    <tr>\n",
              "      <th>1</th>\n",
              "      <td>2.0</td>\n",
              "      <td>3.0</td>\n",
              "      <td>2.0</td>\n",
              "      <td>2.0</td>\n",
              "      <td>2.0</td>\n",
              "      <td>2.0</td>\n",
              "      <td>2.0</td>\n",
              "      <td>2.0</td>\n",
              "      <td>2.0</td>\n",
              "      <td>2.0</td>\n",
              "      <td>...</td>\n",
              "      <td>3.0</td>\n",
              "      <td>3.0</td>\n",
              "      <td>3.0</td>\n",
              "      <td>2.0</td>\n",
              "      <td>3.0</td>\n",
              "      <td>3.0</td>\n",
              "      <td>3.0</td>\n",
              "      <td>4.0</td>\n",
              "      <td>3.0</td>\n",
              "      <td>4.0</td>\n",
              "    </tr>\n",
              "    <tr>\n",
              "      <th>2</th>\n",
              "      <td>4.0</td>\n",
              "      <td>4.0</td>\n",
              "      <td>4.0</td>\n",
              "      <td>2.0</td>\n",
              "      <td>2.0</td>\n",
              "      <td>3.0</td>\n",
              "      <td>2.0</td>\n",
              "      <td>2.0</td>\n",
              "      <td>3.0</td>\n",
              "      <td>2.0</td>\n",
              "      <td>...</td>\n",
              "      <td>4.0</td>\n",
              "      <td>3.0</td>\n",
              "      <td>4.0</td>\n",
              "      <td>4.0</td>\n",
              "      <td>2.0</td>\n",
              "      <td>3.0</td>\n",
              "      <td>2.0</td>\n",
              "      <td>5.0</td>\n",
              "      <td>3.0</td>\n",
              "      <td>5.0</td>\n",
              "    </tr>\n",
              "    <tr>\n",
              "      <th>3</th>\n",
              "      <td>3.0</td>\n",
              "      <td>3.0</td>\n",
              "      <td>3.0</td>\n",
              "      <td>3.0</td>\n",
              "      <td>2.0</td>\n",
              "      <td>2.0</td>\n",
              "      <td>3.0</td>\n",
              "      <td>3.0</td>\n",
              "      <td>3.0</td>\n",
              "      <td>3.0</td>\n",
              "      <td>...</td>\n",
              "      <td>5.0</td>\n",
              "      <td>5.0</td>\n",
              "      <td>4.0</td>\n",
              "      <td>3.0</td>\n",
              "      <td>3.0</td>\n",
              "      <td>3.0</td>\n",
              "      <td>2.0</td>\n",
              "      <td>5.0</td>\n",
              "      <td>5.0</td>\n",
              "      <td>4.0</td>\n",
              "    </tr>\n",
              "    <tr>\n",
              "      <th>4</th>\n",
              "      <td>3.0</td>\n",
              "      <td>2.0</td>\n",
              "      <td>1.0</td>\n",
              "      <td>3.0</td>\n",
              "      <td>2.0</td>\n",
              "      <td>1.0</td>\n",
              "      <td>2.0</td>\n",
              "      <td>3.0</td>\n",
              "      <td>3.0</td>\n",
              "      <td>3.0</td>\n",
              "      <td>...</td>\n",
              "      <td>3.0</td>\n",
              "      <td>2.0</td>\n",
              "      <td>2.0</td>\n",
              "      <td>3.0</td>\n",
              "      <td>1.0</td>\n",
              "      <td>1.0</td>\n",
              "      <td>2.0</td>\n",
              "      <td>5.0</td>\n",
              "      <td>3.0</td>\n",
              "      <td>3.0</td>\n",
              "    </tr>\n",
              "  </tbody>\n",
              "</table>\n",
              "<p>5 rows × 24 columns</p>\n",
              "</div>\n",
              "      <button class=\"colab-df-convert\" onclick=\"convertToInteractive('df-a49ec20d-8490-4b04-a518-f41127048014')\"\n",
              "              title=\"Convert this dataframe to an interactive table.\"\n",
              "              style=\"display:none;\">\n",
              "        \n",
              "  <svg xmlns=\"http://www.w3.org/2000/svg\" height=\"24px\"viewBox=\"0 0 24 24\"\n",
              "       width=\"24px\">\n",
              "    <path d=\"M0 0h24v24H0V0z\" fill=\"none\"/>\n",
              "    <path d=\"M18.56 5.44l.94 2.06.94-2.06 2.06-.94-2.06-.94-.94-2.06-.94 2.06-2.06.94zm-11 1L8.5 8.5l.94-2.06 2.06-.94-2.06-.94L8.5 2.5l-.94 2.06-2.06.94zm10 10l.94 2.06.94-2.06 2.06-.94-2.06-.94-.94-2.06-.94 2.06-2.06.94z\"/><path d=\"M17.41 7.96l-1.37-1.37c-.4-.4-.92-.59-1.43-.59-.52 0-1.04.2-1.43.59L10.3 9.45l-7.72 7.72c-.78.78-.78 2.05 0 2.83L4 21.41c.39.39.9.59 1.41.59.51 0 1.02-.2 1.41-.59l7.78-7.78 2.81-2.81c.8-.78.8-2.07 0-2.86zM5.41 20L4 18.59l7.72-7.72 1.47 1.35L5.41 20z\"/>\n",
              "  </svg>\n",
              "      </button>\n",
              "      \n",
              "  <style>\n",
              "    .colab-df-container {\n",
              "      display:flex;\n",
              "      flex-wrap:wrap;\n",
              "      gap: 12px;\n",
              "    }\n",
              "\n",
              "    .colab-df-convert {\n",
              "      background-color: #E8F0FE;\n",
              "      border: none;\n",
              "      border-radius: 50%;\n",
              "      cursor: pointer;\n",
              "      display: none;\n",
              "      fill: #1967D2;\n",
              "      height: 32px;\n",
              "      padding: 0 0 0 0;\n",
              "      width: 32px;\n",
              "    }\n",
              "\n",
              "    .colab-df-convert:hover {\n",
              "      background-color: #E2EBFA;\n",
              "      box-shadow: 0px 1px 2px rgba(60, 64, 67, 0.3), 0px 1px 3px 1px rgba(60, 64, 67, 0.15);\n",
              "      fill: #174EA6;\n",
              "    }\n",
              "\n",
              "    [theme=dark] .colab-df-convert {\n",
              "      background-color: #3B4455;\n",
              "      fill: #D2E3FC;\n",
              "    }\n",
              "\n",
              "    [theme=dark] .colab-df-convert:hover {\n",
              "      background-color: #434B5C;\n",
              "      box-shadow: 0px 1px 3px 1px rgba(0, 0, 0, 0.15);\n",
              "      filter: drop-shadow(0px 1px 2px rgba(0, 0, 0, 0.3));\n",
              "      fill: #FFFFFF;\n",
              "    }\n",
              "  </style>\n",
              "\n",
              "      <script>\n",
              "        const buttonEl =\n",
              "          document.querySelector('#df-a49ec20d-8490-4b04-a518-f41127048014 button.colab-df-convert');\n",
              "        buttonEl.style.display =\n",
              "          google.colab.kernel.accessAllowed ? 'block' : 'none';\n",
              "\n",
              "        async function convertToInteractive(key) {\n",
              "          const element = document.querySelector('#df-a49ec20d-8490-4b04-a518-f41127048014');\n",
              "          const dataTable =\n",
              "            await google.colab.kernel.invokeFunction('convertToInteractive',\n",
              "                                                     [key], {});\n",
              "          if (!dataTable) return;\n",
              "\n",
              "          const docLinkHtml = 'Like what you see? Visit the ' +\n",
              "            '<a target=\"_blank\" href=https://colab.research.google.com/notebooks/data_table.ipynb>data table notebook</a>'\n",
              "            + ' to learn more about interactive tables.';\n",
              "          element.innerHTML = '';\n",
              "          dataTable['output_type'] = 'display_data';\n",
              "          await google.colab.output.renderOutput(dataTable, element);\n",
              "          const docLink = document.createElement('div');\n",
              "          docLink.innerHTML = docLinkHtml;\n",
              "          element.appendChild(docLink);\n",
              "        }\n",
              "      </script>\n",
              "    </div>\n",
              "  </div>\n",
              "  "
            ]
          },
          "metadata": {},
          "execution_count": 21
        }
      ]
    },
    {
      "cell_type": "markdown",
      "source": [
        "Creating a binary variable for burnout from q0051 (values regularly, often, very often and always translated into 1) "
      ],
      "metadata": {
        "id": "It2lPeQcgCVs"
      }
    },
    {
      "cell_type": "code",
      "execution_count": null,
      "metadata": {
        "colab": {
          "base_uri": "https://localhost:8080/"
        },
        "id": "njAmBOIrSB_L",
        "outputId": "5929ebc0-7fbb-4041-c7e0-8cf77e617894"
      },
      "outputs": [
        {
          "output_type": "stream",
          "name": "stderr",
          "text": [
            "/usr/local/lib/python3.7/dist-packages/ipykernel_launcher.py:1: SettingWithCopyWarning: \n",
            "A value is trying to be set on a copy of a slice from a DataFrame.\n",
            "Try using .loc[row_indexer,col_indexer] = value instead\n",
            "\n",
            "See the caveats in the documentation: https://pandas.pydata.org/pandas-docs/stable/user_guide/indexing.html#returning-a-view-versus-a-copy\n",
            "  \"\"\"Entry point for launching an IPython kernel.\n"
          ]
        }
      ],
      "source": [
        "data[\"burnout\"] = (data[\"q0051\"] >= 4.0)  #q0051: I feel burned out by my work "
      ]
    },
    {
      "cell_type": "code",
      "execution_count": null,
      "metadata": {
        "colab": {
          "base_uri": "https://localhost:8080/"
        },
        "id": "y4z26i7uWYfg",
        "outputId": "09e90e2b-2909-4e23-8451-fd476da63151"
      },
      "outputs": [
        {
          "output_type": "stream",
          "name": "stderr",
          "text": [
            "/usr/local/lib/python3.7/dist-packages/ipykernel_launcher.py:1: SettingWithCopyWarning: \n",
            "A value is trying to be set on a copy of a slice from a DataFrame.\n",
            "Try using .loc[row_indexer,col_indexer] = value instead\n",
            "\n",
            "See the caveats in the documentation: https://pandas.pydata.org/pandas-docs/stable/user_guide/indexing.html#returning-a-view-versus-a-copy\n",
            "  \"\"\"Entry point for launching an IPython kernel.\n"
          ]
        }
      ],
      "source": [
        "data[\"burnout\"] = data[\"burnout\"].astype(int)  #as 1s and 0s"
      ]
    },
    {
      "cell_type": "markdown",
      "metadata": {
        "id": "qLIUmuePkBiI"
      },
      "source": [
        "# 4) Approach Analysis & Validation (Clustering)"
      ]
    },
    {
      "cell_type": "code",
      "execution_count": null,
      "metadata": {
        "id": "pkEU-GdLkIDx"
      },
      "outputs": [],
      "source": [
        "from sklearn.cluster import KMeans"
      ]
    },
    {
      "cell_type": "code",
      "execution_count": null,
      "metadata": {
        "id": "RiwI2JfHkTIQ"
      },
      "outputs": [],
      "source": [
        "kmeans = KMeans(n_clusters=2, random_state=11)"
      ]
    },
    {
      "cell_type": "code",
      "execution_count": null,
      "metadata": {
        "colab": {
          "base_uri": "https://localhost:8080/"
        },
        "id": "_GYuONv7kXZu",
        "outputId": "43b27309-a4be-4a1f-cee7-33fd812721a1"
      },
      "outputs": [
        {
          "output_type": "execute_result",
          "data": {
            "text/plain": [
              "KMeans(n_clusters=2, random_state=11)"
            ]
          },
          "metadata": {},
          "execution_count": 31
        }
      ],
      "source": [
        "kmeans.fit(data.drop(['burnout'], axis = 1 )) #let the algorythm separate our data into two categories by itself (2 because burnout yes or no)"
      ]
    },
    {
      "cell_type": "code",
      "execution_count": null,
      "metadata": {
        "colab": {
          "base_uri": "https://localhost:8080/"
        },
        "id": "R-B3AXtMkbj8",
        "outputId": "6c74da62-4a8f-43e8-90d3-1605b0e3bb72"
      },
      "outputs": [
        {
          "output_type": "stream",
          "name": "stdout",
          "text": [
            "[1 0 1 1 0 0 0 0 0 1 1 0 0 0 1 0 0 0 1 1 0 0 0 0 0 0 1 0 1 0 0 0 1 1 0 0 0\n",
            " 1 1 1 0 0 0 0 1 0 0 1 0 1]\n"
          ]
        }
      ],
      "source": [
        "print(kmeans.labels_[0:50])"
      ]
    },
    {
      "cell_type": "code",
      "execution_count": null,
      "metadata": {
        "id": "7K30jnYLkcO3"
      },
      "outputs": [],
      "source": [
        "data1 = data.copy()"
      ]
    },
    {
      "cell_type": "code",
      "execution_count": null,
      "metadata": {
        "colab": {
          "base_uri": "https://localhost:8080/",
          "height": 206
        },
        "id": "EqkBUp7TkfZn",
        "outputId": "76415885-46b3-4796-c9e9-376d1dec426c"
      },
      "outputs": [
        {
          "output_type": "execute_result",
          "data": {
            "text/plain": [
              "   q0001  q0002  q0003  q0005  q0006  q0031  q0032  q0037  q0038  q0039  q0041  q0042  q0043  q0044  q0045  q0046  q0049  q0051  q0053  q0054  q0055  q0056  q0059  q0099  burnout\n",
              "0    4.0    4.0    4.0    2.0    3.0    3.0    3.0    3.0    2.0    3.0    3.0    3.0    2.0    4.0    5.0    3.0    3.0    4.0    5.0    3.0    4.0    4.0    2.0    5.0        1\n",
              "1    2.0    3.0    2.0    2.0    2.0    2.0    2.0    2.0    2.0    2.0    2.0    3.0    3.0    3.0    3.0    3.0    3.0    2.0    3.0    3.0    3.0    4.0    3.0    4.0        0\n",
              "2    4.0    4.0    4.0    2.0    2.0    3.0    2.0    2.0    3.0    2.0    4.0    2.0    4.0    5.0    4.0    3.0    4.0    4.0    2.0    3.0    2.0    5.0    3.0    5.0        1\n",
              "3    3.0    3.0    3.0    3.0    2.0    2.0    3.0    3.0    3.0    3.0    3.0    3.0    3.0    4.0    5.0    5.0    4.0    3.0    3.0    3.0    2.0    5.0    5.0    4.0        0\n",
              "4    3.0    2.0    1.0    3.0    2.0    1.0    2.0    3.0    3.0    3.0    1.0    2.0    3.0    4.0    3.0    2.0    2.0    3.0    1.0    1.0    2.0    5.0    3.0    3.0        0"
            ],
            "text/html": [
              "\n",
              "  <div id=\"df-30de82d6-d739-41c8-9bca-d9b296ce4877\">\n",
              "    <div class=\"colab-df-container\">\n",
              "      <div>\n",
              "<style scoped>\n",
              "    .dataframe tbody tr th:only-of-type {\n",
              "        vertical-align: middle;\n",
              "    }\n",
              "\n",
              "    .dataframe tbody tr th {\n",
              "        vertical-align: top;\n",
              "    }\n",
              "\n",
              "    .dataframe thead th {\n",
              "        text-align: right;\n",
              "    }\n",
              "</style>\n",
              "<table border=\"1\" class=\"dataframe\">\n",
              "  <thead>\n",
              "    <tr style=\"text-align: right;\">\n",
              "      <th></th>\n",
              "      <th>q0001</th>\n",
              "      <th>q0002</th>\n",
              "      <th>q0003</th>\n",
              "      <th>q0005</th>\n",
              "      <th>q0006</th>\n",
              "      <th>q0031</th>\n",
              "      <th>q0032</th>\n",
              "      <th>q0037</th>\n",
              "      <th>q0038</th>\n",
              "      <th>q0039</th>\n",
              "      <th>q0041</th>\n",
              "      <th>q0042</th>\n",
              "      <th>q0043</th>\n",
              "      <th>q0044</th>\n",
              "      <th>q0045</th>\n",
              "      <th>q0046</th>\n",
              "      <th>q0049</th>\n",
              "      <th>q0051</th>\n",
              "      <th>q0053</th>\n",
              "      <th>q0054</th>\n",
              "      <th>q0055</th>\n",
              "      <th>q0056</th>\n",
              "      <th>q0059</th>\n",
              "      <th>q0099</th>\n",
              "      <th>burnout</th>\n",
              "    </tr>\n",
              "  </thead>\n",
              "  <tbody>\n",
              "    <tr>\n",
              "      <th>0</th>\n",
              "      <td>4.0</td>\n",
              "      <td>4.0</td>\n",
              "      <td>4.0</td>\n",
              "      <td>2.0</td>\n",
              "      <td>3.0</td>\n",
              "      <td>3.0</td>\n",
              "      <td>3.0</td>\n",
              "      <td>3.0</td>\n",
              "      <td>2.0</td>\n",
              "      <td>3.0</td>\n",
              "      <td>3.0</td>\n",
              "      <td>3.0</td>\n",
              "      <td>2.0</td>\n",
              "      <td>4.0</td>\n",
              "      <td>5.0</td>\n",
              "      <td>3.0</td>\n",
              "      <td>3.0</td>\n",
              "      <td>4.0</td>\n",
              "      <td>5.0</td>\n",
              "      <td>3.0</td>\n",
              "      <td>4.0</td>\n",
              "      <td>4.0</td>\n",
              "      <td>2.0</td>\n",
              "      <td>5.0</td>\n",
              "      <td>1</td>\n",
              "    </tr>\n",
              "    <tr>\n",
              "      <th>1</th>\n",
              "      <td>2.0</td>\n",
              "      <td>3.0</td>\n",
              "      <td>2.0</td>\n",
              "      <td>2.0</td>\n",
              "      <td>2.0</td>\n",
              "      <td>2.0</td>\n",
              "      <td>2.0</td>\n",
              "      <td>2.0</td>\n",
              "      <td>2.0</td>\n",
              "      <td>2.0</td>\n",
              "      <td>2.0</td>\n",
              "      <td>3.0</td>\n",
              "      <td>3.0</td>\n",
              "      <td>3.0</td>\n",
              "      <td>3.0</td>\n",
              "      <td>3.0</td>\n",
              "      <td>3.0</td>\n",
              "      <td>2.0</td>\n",
              "      <td>3.0</td>\n",
              "      <td>3.0</td>\n",
              "      <td>3.0</td>\n",
              "      <td>4.0</td>\n",
              "      <td>3.0</td>\n",
              "      <td>4.0</td>\n",
              "      <td>0</td>\n",
              "    </tr>\n",
              "    <tr>\n",
              "      <th>2</th>\n",
              "      <td>4.0</td>\n",
              "      <td>4.0</td>\n",
              "      <td>4.0</td>\n",
              "      <td>2.0</td>\n",
              "      <td>2.0</td>\n",
              "      <td>3.0</td>\n",
              "      <td>2.0</td>\n",
              "      <td>2.0</td>\n",
              "      <td>3.0</td>\n",
              "      <td>2.0</td>\n",
              "      <td>4.0</td>\n",
              "      <td>2.0</td>\n",
              "      <td>4.0</td>\n",
              "      <td>5.0</td>\n",
              "      <td>4.0</td>\n",
              "      <td>3.0</td>\n",
              "      <td>4.0</td>\n",
              "      <td>4.0</td>\n",
              "      <td>2.0</td>\n",
              "      <td>3.0</td>\n",
              "      <td>2.0</td>\n",
              "      <td>5.0</td>\n",
              "      <td>3.0</td>\n",
              "      <td>5.0</td>\n",
              "      <td>1</td>\n",
              "    </tr>\n",
              "    <tr>\n",
              "      <th>3</th>\n",
              "      <td>3.0</td>\n",
              "      <td>3.0</td>\n",
              "      <td>3.0</td>\n",
              "      <td>3.0</td>\n",
              "      <td>2.0</td>\n",
              "      <td>2.0</td>\n",
              "      <td>3.0</td>\n",
              "      <td>3.0</td>\n",
              "      <td>3.0</td>\n",
              "      <td>3.0</td>\n",
              "      <td>3.0</td>\n",
              "      <td>3.0</td>\n",
              "      <td>3.0</td>\n",
              "      <td>4.0</td>\n",
              "      <td>5.0</td>\n",
              "      <td>5.0</td>\n",
              "      <td>4.0</td>\n",
              "      <td>3.0</td>\n",
              "      <td>3.0</td>\n",
              "      <td>3.0</td>\n",
              "      <td>2.0</td>\n",
              "      <td>5.0</td>\n",
              "      <td>5.0</td>\n",
              "      <td>4.0</td>\n",
              "      <td>0</td>\n",
              "    </tr>\n",
              "    <tr>\n",
              "      <th>4</th>\n",
              "      <td>3.0</td>\n",
              "      <td>2.0</td>\n",
              "      <td>1.0</td>\n",
              "      <td>3.0</td>\n",
              "      <td>2.0</td>\n",
              "      <td>1.0</td>\n",
              "      <td>2.0</td>\n",
              "      <td>3.0</td>\n",
              "      <td>3.0</td>\n",
              "      <td>3.0</td>\n",
              "      <td>1.0</td>\n",
              "      <td>2.0</td>\n",
              "      <td>3.0</td>\n",
              "      <td>4.0</td>\n",
              "      <td>3.0</td>\n",
              "      <td>2.0</td>\n",
              "      <td>2.0</td>\n",
              "      <td>3.0</td>\n",
              "      <td>1.0</td>\n",
              "      <td>1.0</td>\n",
              "      <td>2.0</td>\n",
              "      <td>5.0</td>\n",
              "      <td>3.0</td>\n",
              "      <td>3.0</td>\n",
              "      <td>0</td>\n",
              "    </tr>\n",
              "  </tbody>\n",
              "</table>\n",
              "</div>\n",
              "      <button class=\"colab-df-convert\" onclick=\"convertToInteractive('df-30de82d6-d739-41c8-9bca-d9b296ce4877')\"\n",
              "              title=\"Convert this dataframe to an interactive table.\"\n",
              "              style=\"display:none;\">\n",
              "        \n",
              "  <svg xmlns=\"http://www.w3.org/2000/svg\" height=\"24px\"viewBox=\"0 0 24 24\"\n",
              "       width=\"24px\">\n",
              "    <path d=\"M0 0h24v24H0V0z\" fill=\"none\"/>\n",
              "    <path d=\"M18.56 5.44l.94 2.06.94-2.06 2.06-.94-2.06-.94-.94-2.06-.94 2.06-2.06.94zm-11 1L8.5 8.5l.94-2.06 2.06-.94-2.06-.94L8.5 2.5l-.94 2.06-2.06.94zm10 10l.94 2.06.94-2.06 2.06-.94-2.06-.94-.94-2.06-.94 2.06-2.06.94z\"/><path d=\"M17.41 7.96l-1.37-1.37c-.4-.4-.92-.59-1.43-.59-.52 0-1.04.2-1.43.59L10.3 9.45l-7.72 7.72c-.78.78-.78 2.05 0 2.83L4 21.41c.39.39.9.59 1.41.59.51 0 1.02-.2 1.41-.59l7.78-7.78 2.81-2.81c.8-.78.8-2.07 0-2.86zM5.41 20L4 18.59l7.72-7.72 1.47 1.35L5.41 20z\"/>\n",
              "  </svg>\n",
              "      </button>\n",
              "      \n",
              "  <style>\n",
              "    .colab-df-container {\n",
              "      display:flex;\n",
              "      flex-wrap:wrap;\n",
              "      gap: 12px;\n",
              "    }\n",
              "\n",
              "    .colab-df-convert {\n",
              "      background-color: #E8F0FE;\n",
              "      border: none;\n",
              "      border-radius: 50%;\n",
              "      cursor: pointer;\n",
              "      display: none;\n",
              "      fill: #1967D2;\n",
              "      height: 32px;\n",
              "      padding: 0 0 0 0;\n",
              "      width: 32px;\n",
              "    }\n",
              "\n",
              "    .colab-df-convert:hover {\n",
              "      background-color: #E2EBFA;\n",
              "      box-shadow: 0px 1px 2px rgba(60, 64, 67, 0.3), 0px 1px 3px 1px rgba(60, 64, 67, 0.15);\n",
              "      fill: #174EA6;\n",
              "    }\n",
              "\n",
              "    [theme=dark] .colab-df-convert {\n",
              "      background-color: #3B4455;\n",
              "      fill: #D2E3FC;\n",
              "    }\n",
              "\n",
              "    [theme=dark] .colab-df-convert:hover {\n",
              "      background-color: #434B5C;\n",
              "      box-shadow: 0px 1px 3px 1px rgba(0, 0, 0, 0.15);\n",
              "      filter: drop-shadow(0px 1px 2px rgba(0, 0, 0, 0.3));\n",
              "      fill: #FFFFFF;\n",
              "    }\n",
              "  </style>\n",
              "\n",
              "      <script>\n",
              "        const buttonEl =\n",
              "          document.querySelector('#df-30de82d6-d739-41c8-9bca-d9b296ce4877 button.colab-df-convert');\n",
              "        buttonEl.style.display =\n",
              "          google.colab.kernel.accessAllowed ? 'block' : 'none';\n",
              "\n",
              "        async function convertToInteractive(key) {\n",
              "          const element = document.querySelector('#df-30de82d6-d739-41c8-9bca-d9b296ce4877');\n",
              "          const dataTable =\n",
              "            await google.colab.kernel.invokeFunction('convertToInteractive',\n",
              "                                                     [key], {});\n",
              "          if (!dataTable) return;\n",
              "\n",
              "          const docLinkHtml = 'Like what you see? Visit the ' +\n",
              "            '<a target=\"_blank\" href=https://colab.research.google.com/notebooks/data_table.ipynb>data table notebook</a>'\n",
              "            + ' to learn more about interactive tables.';\n",
              "          element.innerHTML = '';\n",
              "          dataTable['output_type'] = 'display_data';\n",
              "          await google.colab.output.renderOutput(dataTable, element);\n",
              "          const docLink = document.createElement('div');\n",
              "          docLink.innerHTML = docLinkHtml;\n",
              "          element.appendChild(docLink);\n",
              "        }\n",
              "      </script>\n",
              "    </div>\n",
              "  </div>\n",
              "  "
            ]
          },
          "metadata": {},
          "execution_count": 34
        }
      ],
      "source": [
        "data1.head()"
      ]
    },
    {
      "cell_type": "code",
      "execution_count": null,
      "metadata": {
        "id": "luFk6VWBkiWA"
      },
      "outputs": [],
      "source": [
        "data1['Clusters'] = kmeans.labels_ #let's create a new variable with the categories that our algorythm found"
      ]
    },
    {
      "cell_type": "code",
      "execution_count": null,
      "metadata": {
        "colab": {
          "base_uri": "https://localhost:8080/",
          "height": 206
        },
        "id": "Dq0S5sBikk7o",
        "outputId": "d91d8ca7-d9e7-4273-a89e-a7977f85548d"
      },
      "outputs": [
        {
          "output_type": "execute_result",
          "data": {
            "text/plain": [
              "   q0001  q0002  q0003  q0005  q0006  q0031  q0032  q0037  q0038  q0039  q0041  q0042  q0043  q0044  q0045  q0046  q0049  q0051  q0053  q0054  q0055  q0056  q0059  q0099  burnout  Clusters\n",
              "0    4.0    4.0    4.0    2.0    3.0    3.0    3.0    3.0    2.0    3.0    3.0    3.0    2.0    4.0    5.0    3.0    3.0    4.0    5.0    3.0    4.0    4.0    2.0    5.0        1         1\n",
              "1    2.0    3.0    2.0    2.0    2.0    2.0    2.0    2.0    2.0    2.0    2.0    3.0    3.0    3.0    3.0    3.0    3.0    2.0    3.0    3.0    3.0    4.0    3.0    4.0        0         0\n",
              "2    4.0    4.0    4.0    2.0    2.0    3.0    2.0    2.0    3.0    2.0    4.0    2.0    4.0    5.0    4.0    3.0    4.0    4.0    2.0    3.0    2.0    5.0    3.0    5.0        1         1\n",
              "3    3.0    3.0    3.0    3.0    2.0    2.0    3.0    3.0    3.0    3.0    3.0    3.0    3.0    4.0    5.0    5.0    4.0    3.0    3.0    3.0    2.0    5.0    5.0    4.0        0         1\n",
              "4    3.0    2.0    1.0    3.0    2.0    1.0    2.0    3.0    3.0    3.0    1.0    2.0    3.0    4.0    3.0    2.0    2.0    3.0    1.0    1.0    2.0    5.0    3.0    3.0        0         0"
            ],
            "text/html": [
              "\n",
              "  <div id=\"df-f3961245-2148-4edf-a91b-53d7d40ba82b\">\n",
              "    <div class=\"colab-df-container\">\n",
              "      <div>\n",
              "<style scoped>\n",
              "    .dataframe tbody tr th:only-of-type {\n",
              "        vertical-align: middle;\n",
              "    }\n",
              "\n",
              "    .dataframe tbody tr th {\n",
              "        vertical-align: top;\n",
              "    }\n",
              "\n",
              "    .dataframe thead th {\n",
              "        text-align: right;\n",
              "    }\n",
              "</style>\n",
              "<table border=\"1\" class=\"dataframe\">\n",
              "  <thead>\n",
              "    <tr style=\"text-align: right;\">\n",
              "      <th></th>\n",
              "      <th>q0001</th>\n",
              "      <th>q0002</th>\n",
              "      <th>q0003</th>\n",
              "      <th>q0005</th>\n",
              "      <th>q0006</th>\n",
              "      <th>q0031</th>\n",
              "      <th>q0032</th>\n",
              "      <th>q0037</th>\n",
              "      <th>q0038</th>\n",
              "      <th>q0039</th>\n",
              "      <th>q0041</th>\n",
              "      <th>q0042</th>\n",
              "      <th>q0043</th>\n",
              "      <th>q0044</th>\n",
              "      <th>q0045</th>\n",
              "      <th>q0046</th>\n",
              "      <th>q0049</th>\n",
              "      <th>q0051</th>\n",
              "      <th>q0053</th>\n",
              "      <th>q0054</th>\n",
              "      <th>q0055</th>\n",
              "      <th>q0056</th>\n",
              "      <th>q0059</th>\n",
              "      <th>q0099</th>\n",
              "      <th>burnout</th>\n",
              "      <th>Clusters</th>\n",
              "    </tr>\n",
              "  </thead>\n",
              "  <tbody>\n",
              "    <tr>\n",
              "      <th>0</th>\n",
              "      <td>4.0</td>\n",
              "      <td>4.0</td>\n",
              "      <td>4.0</td>\n",
              "      <td>2.0</td>\n",
              "      <td>3.0</td>\n",
              "      <td>3.0</td>\n",
              "      <td>3.0</td>\n",
              "      <td>3.0</td>\n",
              "      <td>2.0</td>\n",
              "      <td>3.0</td>\n",
              "      <td>3.0</td>\n",
              "      <td>3.0</td>\n",
              "      <td>2.0</td>\n",
              "      <td>4.0</td>\n",
              "      <td>5.0</td>\n",
              "      <td>3.0</td>\n",
              "      <td>3.0</td>\n",
              "      <td>4.0</td>\n",
              "      <td>5.0</td>\n",
              "      <td>3.0</td>\n",
              "      <td>4.0</td>\n",
              "      <td>4.0</td>\n",
              "      <td>2.0</td>\n",
              "      <td>5.0</td>\n",
              "      <td>1</td>\n",
              "      <td>1</td>\n",
              "    </tr>\n",
              "    <tr>\n",
              "      <th>1</th>\n",
              "      <td>2.0</td>\n",
              "      <td>3.0</td>\n",
              "      <td>2.0</td>\n",
              "      <td>2.0</td>\n",
              "      <td>2.0</td>\n",
              "      <td>2.0</td>\n",
              "      <td>2.0</td>\n",
              "      <td>2.0</td>\n",
              "      <td>2.0</td>\n",
              "      <td>2.0</td>\n",
              "      <td>2.0</td>\n",
              "      <td>3.0</td>\n",
              "      <td>3.0</td>\n",
              "      <td>3.0</td>\n",
              "      <td>3.0</td>\n",
              "      <td>3.0</td>\n",
              "      <td>3.0</td>\n",
              "      <td>2.0</td>\n",
              "      <td>3.0</td>\n",
              "      <td>3.0</td>\n",
              "      <td>3.0</td>\n",
              "      <td>4.0</td>\n",
              "      <td>3.0</td>\n",
              "      <td>4.0</td>\n",
              "      <td>0</td>\n",
              "      <td>0</td>\n",
              "    </tr>\n",
              "    <tr>\n",
              "      <th>2</th>\n",
              "      <td>4.0</td>\n",
              "      <td>4.0</td>\n",
              "      <td>4.0</td>\n",
              "      <td>2.0</td>\n",
              "      <td>2.0</td>\n",
              "      <td>3.0</td>\n",
              "      <td>2.0</td>\n",
              "      <td>2.0</td>\n",
              "      <td>3.0</td>\n",
              "      <td>2.0</td>\n",
              "      <td>4.0</td>\n",
              "      <td>2.0</td>\n",
              "      <td>4.0</td>\n",
              "      <td>5.0</td>\n",
              "      <td>4.0</td>\n",
              "      <td>3.0</td>\n",
              "      <td>4.0</td>\n",
              "      <td>4.0</td>\n",
              "      <td>2.0</td>\n",
              "      <td>3.0</td>\n",
              "      <td>2.0</td>\n",
              "      <td>5.0</td>\n",
              "      <td>3.0</td>\n",
              "      <td>5.0</td>\n",
              "      <td>1</td>\n",
              "      <td>1</td>\n",
              "    </tr>\n",
              "    <tr>\n",
              "      <th>3</th>\n",
              "      <td>3.0</td>\n",
              "      <td>3.0</td>\n",
              "      <td>3.0</td>\n",
              "      <td>3.0</td>\n",
              "      <td>2.0</td>\n",
              "      <td>2.0</td>\n",
              "      <td>3.0</td>\n",
              "      <td>3.0</td>\n",
              "      <td>3.0</td>\n",
              "      <td>3.0</td>\n",
              "      <td>3.0</td>\n",
              "      <td>3.0</td>\n",
              "      <td>3.0</td>\n",
              "      <td>4.0</td>\n",
              "      <td>5.0</td>\n",
              "      <td>5.0</td>\n",
              "      <td>4.0</td>\n",
              "      <td>3.0</td>\n",
              "      <td>3.0</td>\n",
              "      <td>3.0</td>\n",
              "      <td>2.0</td>\n",
              "      <td>5.0</td>\n",
              "      <td>5.0</td>\n",
              "      <td>4.0</td>\n",
              "      <td>0</td>\n",
              "      <td>1</td>\n",
              "    </tr>\n",
              "    <tr>\n",
              "      <th>4</th>\n",
              "      <td>3.0</td>\n",
              "      <td>2.0</td>\n",
              "      <td>1.0</td>\n",
              "      <td>3.0</td>\n",
              "      <td>2.0</td>\n",
              "      <td>1.0</td>\n",
              "      <td>2.0</td>\n",
              "      <td>3.0</td>\n",
              "      <td>3.0</td>\n",
              "      <td>3.0</td>\n",
              "      <td>1.0</td>\n",
              "      <td>2.0</td>\n",
              "      <td>3.0</td>\n",
              "      <td>4.0</td>\n",
              "      <td>3.0</td>\n",
              "      <td>2.0</td>\n",
              "      <td>2.0</td>\n",
              "      <td>3.0</td>\n",
              "      <td>1.0</td>\n",
              "      <td>1.0</td>\n",
              "      <td>2.0</td>\n",
              "      <td>5.0</td>\n",
              "      <td>3.0</td>\n",
              "      <td>3.0</td>\n",
              "      <td>0</td>\n",
              "      <td>0</td>\n",
              "    </tr>\n",
              "  </tbody>\n",
              "</table>\n",
              "</div>\n",
              "      <button class=\"colab-df-convert\" onclick=\"convertToInteractive('df-f3961245-2148-4edf-a91b-53d7d40ba82b')\"\n",
              "              title=\"Convert this dataframe to an interactive table.\"\n",
              "              style=\"display:none;\">\n",
              "        \n",
              "  <svg xmlns=\"http://www.w3.org/2000/svg\" height=\"24px\"viewBox=\"0 0 24 24\"\n",
              "       width=\"24px\">\n",
              "    <path d=\"M0 0h24v24H0V0z\" fill=\"none\"/>\n",
              "    <path d=\"M18.56 5.44l.94 2.06.94-2.06 2.06-.94-2.06-.94-.94-2.06-.94 2.06-2.06.94zm-11 1L8.5 8.5l.94-2.06 2.06-.94-2.06-.94L8.5 2.5l-.94 2.06-2.06.94zm10 10l.94 2.06.94-2.06 2.06-.94-2.06-.94-.94-2.06-.94 2.06-2.06.94z\"/><path d=\"M17.41 7.96l-1.37-1.37c-.4-.4-.92-.59-1.43-.59-.52 0-1.04.2-1.43.59L10.3 9.45l-7.72 7.72c-.78.78-.78 2.05 0 2.83L4 21.41c.39.39.9.59 1.41.59.51 0 1.02-.2 1.41-.59l7.78-7.78 2.81-2.81c.8-.78.8-2.07 0-2.86zM5.41 20L4 18.59l7.72-7.72 1.47 1.35L5.41 20z\"/>\n",
              "  </svg>\n",
              "      </button>\n",
              "      \n",
              "  <style>\n",
              "    .colab-df-container {\n",
              "      display:flex;\n",
              "      flex-wrap:wrap;\n",
              "      gap: 12px;\n",
              "    }\n",
              "\n",
              "    .colab-df-convert {\n",
              "      background-color: #E8F0FE;\n",
              "      border: none;\n",
              "      border-radius: 50%;\n",
              "      cursor: pointer;\n",
              "      display: none;\n",
              "      fill: #1967D2;\n",
              "      height: 32px;\n",
              "      padding: 0 0 0 0;\n",
              "      width: 32px;\n",
              "    }\n",
              "\n",
              "    .colab-df-convert:hover {\n",
              "      background-color: #E2EBFA;\n",
              "      box-shadow: 0px 1px 2px rgba(60, 64, 67, 0.3), 0px 1px 3px 1px rgba(60, 64, 67, 0.15);\n",
              "      fill: #174EA6;\n",
              "    }\n",
              "\n",
              "    [theme=dark] .colab-df-convert {\n",
              "      background-color: #3B4455;\n",
              "      fill: #D2E3FC;\n",
              "    }\n",
              "\n",
              "    [theme=dark] .colab-df-convert:hover {\n",
              "      background-color: #434B5C;\n",
              "      box-shadow: 0px 1px 3px 1px rgba(0, 0, 0, 0.15);\n",
              "      filter: drop-shadow(0px 1px 2px rgba(0, 0, 0, 0.3));\n",
              "      fill: #FFFFFF;\n",
              "    }\n",
              "  </style>\n",
              "\n",
              "      <script>\n",
              "        const buttonEl =\n",
              "          document.querySelector('#df-f3961245-2148-4edf-a91b-53d7d40ba82b button.colab-df-convert');\n",
              "        buttonEl.style.display =\n",
              "          google.colab.kernel.accessAllowed ? 'block' : 'none';\n",
              "\n",
              "        async function convertToInteractive(key) {\n",
              "          const element = document.querySelector('#df-f3961245-2148-4edf-a91b-53d7d40ba82b');\n",
              "          const dataTable =\n",
              "            await google.colab.kernel.invokeFunction('convertToInteractive',\n",
              "                                                     [key], {});\n",
              "          if (!dataTable) return;\n",
              "\n",
              "          const docLinkHtml = 'Like what you see? Visit the ' +\n",
              "            '<a target=\"_blank\" href=https://colab.research.google.com/notebooks/data_table.ipynb>data table notebook</a>'\n",
              "            + ' to learn more about interactive tables.';\n",
              "          element.innerHTML = '';\n",
              "          dataTable['output_type'] = 'display_data';\n",
              "          await google.colab.output.renderOutput(dataTable, element);\n",
              "          const docLink = document.createElement('div');\n",
              "          docLink.innerHTML = docLinkHtml;\n",
              "          element.appendChild(docLink);\n",
              "        }\n",
              "      </script>\n",
              "    </div>\n",
              "  </div>\n",
              "  "
            ]
          },
          "metadata": {},
          "execution_count": 36
        }
      ],
      "source": [
        "data1.head()"
      ]
    },
    {
      "cell_type": "code",
      "execution_count": null,
      "metadata": {
        "id": "ZnMS0bGDkqbO"
      },
      "outputs": [],
      "source": [
        "abon = data1[data1['burnout'] == data1['Clusters']] #let's compare burnout variable with the categories that our algorythm created"
      ]
    },
    {
      "cell_type": "code",
      "execution_count": null,
      "metadata": {
        "id": "UqhjvWLgks_j"
      },
      "outputs": [],
      "source": [
        "clustering_score = abon['burnout'].count() / data['burnout'].count()"
      ]
    },
    {
      "cell_type": "code",
      "execution_count": null,
      "metadata": {
        "colab": {
          "base_uri": "https://localhost:8080/"
        },
        "id": "sMq72BNGkv7K",
        "outputId": "1466a0e0-e31b-41a0-bdb0-d082c062e278"
      },
      "outputs": [
        {
          "output_type": "execute_result",
          "data": {
            "text/plain": [
              "0.8033707865168539"
            ]
          },
          "metadata": {},
          "execution_count": 39
        }
      ],
      "source": [
        "clustering_score #our algorythm found the right cluster 80% of the time, \n"
      ]
    },
    {
      "cell_type": "markdown",
      "source": [
        "<p align =\"justify\">Note this was done on the whole dataset, separating in train and test would makes sense in order to avoid overfitting\n",
        ", then we could use kmeans.predict() for example. Nevertheless, I would rather use the clustering to demonstrate that our approach when determining burnout yes or no, makes sense.</p>"
      ],
      "metadata": {
        "id": "BVyP6_3ltvP4"
      }
    },
    {
      "cell_type": "markdown",
      "metadata": {
        "id": "gdZxFUkURTcp"
      },
      "source": [
        "# 5) Logistic and Linear regression \n"
      ]
    },
    {
      "cell_type": "markdown",
      "source": [
        "##5.1) Logistic regression with burnout as dependent variable"
      ],
      "metadata": {
        "id": "3u7Ug3P9hZTW"
      }
    },
    {
      "cell_type": "code",
      "execution_count": null,
      "metadata": {
        "id": "43BYgt3qSMcQ"
      },
      "outputs": [],
      "source": [
        "import statsmodels.api as sm\n",
        "from sklearn.model_selection import train_test_split\n",
        "import numpy as np\n",
        "import matplotlib.pyplot as plt\n"
      ]
    },
    {
      "cell_type": "code",
      "execution_count": null,
      "metadata": {
        "id": "38P4yo8zTtRh",
        "colab": {
          "base_uri": "https://localhost:8080/",
          "height": 502
        },
        "outputId": "3046ddc2-478e-404e-cbf4-836898e5639b"
      },
      "outputs": [
        {
          "output_type": "error",
          "ename": "KeyError",
          "evalue": "ignored",
          "traceback": [
            "\u001b[0;31m---------------------------------------------------------------------------\u001b[0m",
            "\u001b[0;31mKeyError\u001b[0m                                  Traceback (most recent call last)",
            "\u001b[0;32m/usr/local/lib/python3.7/dist-packages/pandas/core/indexes/base.py\u001b[0m in \u001b[0;36mget_loc\u001b[0;34m(self, key, method, tolerance)\u001b[0m\n\u001b[1;32m   3360\u001b[0m             \u001b[0;32mtry\u001b[0m\u001b[0;34m:\u001b[0m\u001b[0;34m\u001b[0m\u001b[0;34m\u001b[0m\u001b[0m\n\u001b[0;32m-> 3361\u001b[0;31m                 \u001b[0;32mreturn\u001b[0m \u001b[0mself\u001b[0m\u001b[0;34m.\u001b[0m\u001b[0m_engine\u001b[0m\u001b[0;34m.\u001b[0m\u001b[0mget_loc\u001b[0m\u001b[0;34m(\u001b[0m\u001b[0mcasted_key\u001b[0m\u001b[0;34m)\u001b[0m\u001b[0;34m\u001b[0m\u001b[0;34m\u001b[0m\u001b[0m\n\u001b[0m\u001b[1;32m   3362\u001b[0m             \u001b[0;32mexcept\u001b[0m \u001b[0mKeyError\u001b[0m \u001b[0;32mas\u001b[0m \u001b[0merr\u001b[0m\u001b[0;34m:\u001b[0m\u001b[0;34m\u001b[0m\u001b[0;34m\u001b[0m\u001b[0m\n",
            "\u001b[0;32m/usr/local/lib/python3.7/dist-packages/pandas/_libs/index.pyx\u001b[0m in \u001b[0;36mpandas._libs.index.IndexEngine.get_loc\u001b[0;34m()\u001b[0m\n",
            "\u001b[0;32m/usr/local/lib/python3.7/dist-packages/pandas/_libs/index.pyx\u001b[0m in \u001b[0;36mpandas._libs.index.IndexEngine.get_loc\u001b[0;34m()\u001b[0m\n",
            "\u001b[0;32mpandas/_libs/hashtable_class_helper.pxi\u001b[0m in \u001b[0;36mpandas._libs.hashtable.PyObjectHashTable.get_item\u001b[0;34m()\u001b[0m\n",
            "\u001b[0;32mpandas/_libs/hashtable_class_helper.pxi\u001b[0m in \u001b[0;36mpandas._libs.hashtable.PyObjectHashTable.get_item\u001b[0;34m()\u001b[0m\n",
            "\u001b[0;31mKeyError\u001b[0m: 'burnout'",
            "\nThe above exception was the direct cause of the following exception:\n",
            "\u001b[0;31mKeyError\u001b[0m                                  Traceback (most recent call last)",
            "\u001b[0;32m<ipython-input-25-a804e978e0ef>\u001b[0m in \u001b[0;36m<module>\u001b[0;34m()\u001b[0m\n\u001b[0;32m----> 1\u001b[0;31m \u001b[0my\u001b[0m \u001b[0;34m=\u001b[0m \u001b[0mdata\u001b[0m\u001b[0;34m[\u001b[0m\u001b[0;34m\"burnout\"\u001b[0m\u001b[0;34m]\u001b[0m\u001b[0;34m\u001b[0m\u001b[0;34m\u001b[0m\u001b[0m\n\u001b[0m\u001b[1;32m      2\u001b[0m \u001b[0mX\u001b[0m\u001b[0;34m=\u001b[0m \u001b[0mdata\u001b[0m\u001b[0;34m.\u001b[0m\u001b[0mdrop\u001b[0m\u001b[0;34m(\u001b[0m\u001b[0;34m[\u001b[0m\u001b[0;34m\"burnout\"\u001b[0m\u001b[0;34m,\u001b[0m\u001b[0;34m\"q0051\"\u001b[0m\u001b[0;34m]\u001b[0m\u001b[0;34m,\u001b[0m \u001b[0maxis\u001b[0m \u001b[0;34m=\u001b[0m \u001b[0;36m1\u001b[0m\u001b[0;34m)\u001b[0m\u001b[0;34m\u001b[0m\u001b[0;34m\u001b[0m\u001b[0m\n",
            "\u001b[0;32m/usr/local/lib/python3.7/dist-packages/pandas/core/frame.py\u001b[0m in \u001b[0;36m__getitem__\u001b[0;34m(self, key)\u001b[0m\n\u001b[1;32m   3456\u001b[0m             \u001b[0;32mif\u001b[0m \u001b[0mself\u001b[0m\u001b[0;34m.\u001b[0m\u001b[0mcolumns\u001b[0m\u001b[0;34m.\u001b[0m\u001b[0mnlevels\u001b[0m \u001b[0;34m>\u001b[0m \u001b[0;36m1\u001b[0m\u001b[0;34m:\u001b[0m\u001b[0;34m\u001b[0m\u001b[0;34m\u001b[0m\u001b[0m\n\u001b[1;32m   3457\u001b[0m                 \u001b[0;32mreturn\u001b[0m \u001b[0mself\u001b[0m\u001b[0;34m.\u001b[0m\u001b[0m_getitem_multilevel\u001b[0m\u001b[0;34m(\u001b[0m\u001b[0mkey\u001b[0m\u001b[0;34m)\u001b[0m\u001b[0;34m\u001b[0m\u001b[0;34m\u001b[0m\u001b[0m\n\u001b[0;32m-> 3458\u001b[0;31m             \u001b[0mindexer\u001b[0m \u001b[0;34m=\u001b[0m \u001b[0mself\u001b[0m\u001b[0;34m.\u001b[0m\u001b[0mcolumns\u001b[0m\u001b[0;34m.\u001b[0m\u001b[0mget_loc\u001b[0m\u001b[0;34m(\u001b[0m\u001b[0mkey\u001b[0m\u001b[0;34m)\u001b[0m\u001b[0;34m\u001b[0m\u001b[0;34m\u001b[0m\u001b[0m\n\u001b[0m\u001b[1;32m   3459\u001b[0m             \u001b[0;32mif\u001b[0m \u001b[0mis_integer\u001b[0m\u001b[0;34m(\u001b[0m\u001b[0mindexer\u001b[0m\u001b[0;34m)\u001b[0m\u001b[0;34m:\u001b[0m\u001b[0;34m\u001b[0m\u001b[0;34m\u001b[0m\u001b[0m\n\u001b[1;32m   3460\u001b[0m                 \u001b[0mindexer\u001b[0m \u001b[0;34m=\u001b[0m \u001b[0;34m[\u001b[0m\u001b[0mindexer\u001b[0m\u001b[0;34m]\u001b[0m\u001b[0;34m\u001b[0m\u001b[0;34m\u001b[0m\u001b[0m\n",
            "\u001b[0;32m/usr/local/lib/python3.7/dist-packages/pandas/core/indexes/base.py\u001b[0m in \u001b[0;36mget_loc\u001b[0;34m(self, key, method, tolerance)\u001b[0m\n\u001b[1;32m   3361\u001b[0m                 \u001b[0;32mreturn\u001b[0m \u001b[0mself\u001b[0m\u001b[0;34m.\u001b[0m\u001b[0m_engine\u001b[0m\u001b[0;34m.\u001b[0m\u001b[0mget_loc\u001b[0m\u001b[0;34m(\u001b[0m\u001b[0mcasted_key\u001b[0m\u001b[0;34m)\u001b[0m\u001b[0;34m\u001b[0m\u001b[0;34m\u001b[0m\u001b[0m\n\u001b[1;32m   3362\u001b[0m             \u001b[0;32mexcept\u001b[0m \u001b[0mKeyError\u001b[0m \u001b[0;32mas\u001b[0m \u001b[0merr\u001b[0m\u001b[0;34m:\u001b[0m\u001b[0;34m\u001b[0m\u001b[0;34m\u001b[0m\u001b[0m\n\u001b[0;32m-> 3363\u001b[0;31m                 \u001b[0;32mraise\u001b[0m \u001b[0mKeyError\u001b[0m\u001b[0;34m(\u001b[0m\u001b[0mkey\u001b[0m\u001b[0;34m)\u001b[0m \u001b[0;32mfrom\u001b[0m \u001b[0merr\u001b[0m\u001b[0;34m\u001b[0m\u001b[0;34m\u001b[0m\u001b[0m\n\u001b[0m\u001b[1;32m   3364\u001b[0m \u001b[0;34m\u001b[0m\u001b[0m\n\u001b[1;32m   3365\u001b[0m         \u001b[0;32mif\u001b[0m \u001b[0mis_scalar\u001b[0m\u001b[0;34m(\u001b[0m\u001b[0mkey\u001b[0m\u001b[0;34m)\u001b[0m \u001b[0;32mand\u001b[0m \u001b[0misna\u001b[0m\u001b[0;34m(\u001b[0m\u001b[0mkey\u001b[0m\u001b[0;34m)\u001b[0m \u001b[0;32mand\u001b[0m \u001b[0;32mnot\u001b[0m \u001b[0mself\u001b[0m\u001b[0;34m.\u001b[0m\u001b[0mhasnans\u001b[0m\u001b[0;34m:\u001b[0m\u001b[0;34m\u001b[0m\u001b[0;34m\u001b[0m\u001b[0m\n",
            "\u001b[0;31mKeyError\u001b[0m: 'burnout'"
          ]
        }
      ],
      "source": [
        "y = data[\"burnout\"]\n",
        "X= data.drop([\"burnout\",\"q0051\"], axis = 1)"
      ]
    },
    {
      "cell_type": "code",
      "execution_count": null,
      "metadata": {
        "id": "kW3J3mK7UXOb"
      },
      "outputs": [],
      "source": [
        "X_train, X_test, y_train, y_test = train_test_split(X, y, test_size=0.30, random_state=1)"
      ]
    },
    {
      "cell_type": "code",
      "execution_count": null,
      "metadata": {
        "colab": {
          "base_uri": "https://localhost:8080/",
          "height": 183
        },
        "id": "lAE9NsG5UZtc",
        "outputId": "195284dc-3a49-486c-f72f-5d62fcbf465f"
      },
      "outputs": [
        {
          "output_type": "error",
          "ename": "NameError",
          "evalue": "ignored",
          "traceback": [
            "\u001b[0;31m---------------------------------------------------------------------------\u001b[0m",
            "\u001b[0;31mNameError\u001b[0m                                 Traceback (most recent call last)",
            "\u001b[0;32m<ipython-input-26-602984c1087f>\u001b[0m in \u001b[0;36m<module>\u001b[0;34m()\u001b[0m\n\u001b[0;32m----> 1\u001b[0;31m \u001b[0mX_train\u001b[0m \u001b[0;34m=\u001b[0m \u001b[0msm\u001b[0m\u001b[0;34m.\u001b[0m\u001b[0madd_constant\u001b[0m\u001b[0;34m(\u001b[0m\u001b[0mX_train\u001b[0m\u001b[0;34m)\u001b[0m  \u001b[0;31m#adds intercept\u001b[0m\u001b[0;34m\u001b[0m\u001b[0;34m\u001b[0m\u001b[0m\n\u001b[0m\u001b[1;32m      2\u001b[0m \u001b[0mmodel\u001b[0m\u001b[0;34m=\u001b[0m \u001b[0msm\u001b[0m\u001b[0;34m.\u001b[0m\u001b[0mLogit\u001b[0m\u001b[0;34m(\u001b[0m\u001b[0my_train\u001b[0m\u001b[0;34m,\u001b[0m \u001b[0mX_train\u001b[0m\u001b[0;34m)\u001b[0m  \u001b[0;31m#logistic regression\u001b[0m\u001b[0;34m\u001b[0m\u001b[0;34m\u001b[0m\u001b[0m\n",
            "\u001b[0;31mNameError\u001b[0m: name 'X_train' is not defined"
          ]
        }
      ],
      "source": [
        "X_train = sm.add_constant(X_train)  #adds intercept\n",
        "model= sm.Logit(y_train, X_train)  #logistic regression"
      ]
    },
    {
      "cell_type": "code",
      "execution_count": null,
      "metadata": {
        "id": "WsXxjZvDUonH",
        "colab": {
          "base_uri": "https://localhost:8080/",
          "height": 483
        },
        "outputId": "e2a51dba-d929-4a1e-ca1c-4f4753c632e0"
      },
      "outputs": [
        {
          "output_type": "stream",
          "name": "stderr",
          "text": [
            "/usr/local/lib/python3.7/dist-packages/statsmodels/discrete/discrete_model.py:1736: RuntimeWarning: overflow encountered in exp\n",
            "  return 1/(1+np.exp(-X))\n",
            "/usr/local/lib/python3.7/dist-packages/statsmodels/discrete/discrete_model.py:1789: RuntimeWarning: divide by zero encountered in log\n",
            "  return np.sum(np.log(self.cdf(q*np.dot(X,params))))\n"
          ]
        },
        {
          "output_type": "stream",
          "name": "stdout",
          "text": [
            "Warning: Maximum number of iterations has been exceeded.\n",
            "         Current function value: inf\n",
            "         Iterations: 35\n"
          ]
        },
        {
          "output_type": "error",
          "ename": "LinAlgError",
          "evalue": "ignored",
          "traceback": [
            "\u001b[0;31m---------------------------------------------------------------------------\u001b[0m",
            "\u001b[0;31mLinAlgError\u001b[0m                               Traceback (most recent call last)",
            "\u001b[0;32m<ipython-input-39-4a887288a2a7>\u001b[0m in \u001b[0;36m<module>\u001b[0;34m()\u001b[0m\n\u001b[0;32m----> 1\u001b[0;31m \u001b[0mmodel\u001b[0m \u001b[0;34m=\u001b[0m \u001b[0mmodel\u001b[0m\u001b[0;34m.\u001b[0m\u001b[0mfit\u001b[0m\u001b[0;34m(\u001b[0m\u001b[0;34m)\u001b[0m   \u001b[0;31m#singular matrix problem, type of data\u001b[0m\u001b[0;34m\u001b[0m\u001b[0;34m\u001b[0m\u001b[0m\n\u001b[0m",
            "\u001b[0;32m/usr/local/lib/python3.7/dist-packages/statsmodels/discrete/discrete_model.py\u001b[0m in \u001b[0;36mfit\u001b[0;34m(self, start_params, method, maxiter, full_output, disp, callback, **kwargs)\u001b[0m\n\u001b[1;32m   1900\u001b[0m         bnryfit = super(Logit, self).fit(start_params=start_params,\n\u001b[1;32m   1901\u001b[0m                 \u001b[0mmethod\u001b[0m\u001b[0;34m=\u001b[0m\u001b[0mmethod\u001b[0m\u001b[0;34m,\u001b[0m \u001b[0mmaxiter\u001b[0m\u001b[0;34m=\u001b[0m\u001b[0mmaxiter\u001b[0m\u001b[0;34m,\u001b[0m \u001b[0mfull_output\u001b[0m\u001b[0;34m=\u001b[0m\u001b[0mfull_output\u001b[0m\u001b[0;34m,\u001b[0m\u001b[0;34m\u001b[0m\u001b[0;34m\u001b[0m\u001b[0m\n\u001b[0;32m-> 1902\u001b[0;31m                 disp=disp, callback=callback, **kwargs)\n\u001b[0m\u001b[1;32m   1903\u001b[0m \u001b[0;34m\u001b[0m\u001b[0m\n\u001b[1;32m   1904\u001b[0m         \u001b[0mdiscretefit\u001b[0m \u001b[0;34m=\u001b[0m \u001b[0mLogitResults\u001b[0m\u001b[0;34m(\u001b[0m\u001b[0mself\u001b[0m\u001b[0;34m,\u001b[0m \u001b[0mbnryfit\u001b[0m\u001b[0;34m)\u001b[0m\u001b[0;34m\u001b[0m\u001b[0;34m\u001b[0m\u001b[0m\n",
            "\u001b[0;32m/usr/local/lib/python3.7/dist-packages/statsmodels/discrete/discrete_model.py\u001b[0m in \u001b[0;36mfit\u001b[0;34m(self, start_params, method, maxiter, full_output, disp, callback, **kwargs)\u001b[0m\n\u001b[1;32m    215\u001b[0m         mlefit = super(DiscreteModel, self).fit(start_params=start_params,\n\u001b[1;32m    216\u001b[0m                 \u001b[0mmethod\u001b[0m\u001b[0;34m=\u001b[0m\u001b[0mmethod\u001b[0m\u001b[0;34m,\u001b[0m \u001b[0mmaxiter\u001b[0m\u001b[0;34m=\u001b[0m\u001b[0mmaxiter\u001b[0m\u001b[0;34m,\u001b[0m \u001b[0mfull_output\u001b[0m\u001b[0;34m=\u001b[0m\u001b[0mfull_output\u001b[0m\u001b[0;34m,\u001b[0m\u001b[0;34m\u001b[0m\u001b[0;34m\u001b[0m\u001b[0m\n\u001b[0;32m--> 217\u001b[0;31m                 disp=disp, callback=callback, **kwargs)\n\u001b[0m\u001b[1;32m    218\u001b[0m \u001b[0;34m\u001b[0m\u001b[0m\n\u001b[1;32m    219\u001b[0m         \u001b[0;32mreturn\u001b[0m \u001b[0mmlefit\u001b[0m \u001b[0;31m# up to subclasses to wrap results\u001b[0m\u001b[0;34m\u001b[0m\u001b[0;34m\u001b[0m\u001b[0m\n",
            "\u001b[0;32m/usr/local/lib/python3.7/dist-packages/statsmodels/base/model.py\u001b[0m in \u001b[0;36mfit\u001b[0;34m(self, start_params, method, maxiter, full_output, disp, fargs, callback, retall, skip_hessian, **kwargs)\u001b[0m\n\u001b[1;32m    475\u001b[0m             \u001b[0mHinv\u001b[0m \u001b[0;34m=\u001b[0m \u001b[0mcov_params_func\u001b[0m\u001b[0;34m(\u001b[0m\u001b[0mself\u001b[0m\u001b[0;34m,\u001b[0m \u001b[0mxopt\u001b[0m\u001b[0;34m,\u001b[0m \u001b[0mretvals\u001b[0m\u001b[0;34m)\u001b[0m\u001b[0;34m\u001b[0m\u001b[0;34m\u001b[0m\u001b[0m\n\u001b[1;32m    476\u001b[0m         \u001b[0;32melif\u001b[0m \u001b[0mmethod\u001b[0m \u001b[0;34m==\u001b[0m \u001b[0;34m'newton'\u001b[0m \u001b[0;32mand\u001b[0m \u001b[0mfull_output\u001b[0m\u001b[0;34m:\u001b[0m\u001b[0;34m\u001b[0m\u001b[0;34m\u001b[0m\u001b[0m\n\u001b[0;32m--> 477\u001b[0;31m             \u001b[0mHinv\u001b[0m \u001b[0;34m=\u001b[0m \u001b[0mnp\u001b[0m\u001b[0;34m.\u001b[0m\u001b[0mlinalg\u001b[0m\u001b[0;34m.\u001b[0m\u001b[0minv\u001b[0m\u001b[0;34m(\u001b[0m\u001b[0;34m-\u001b[0m\u001b[0mretvals\u001b[0m\u001b[0;34m[\u001b[0m\u001b[0;34m'Hessian'\u001b[0m\u001b[0;34m]\u001b[0m\u001b[0;34m)\u001b[0m \u001b[0;34m/\u001b[0m \u001b[0mnobs\u001b[0m\u001b[0;34m\u001b[0m\u001b[0;34m\u001b[0m\u001b[0m\n\u001b[0m\u001b[1;32m    478\u001b[0m         \u001b[0;32melif\u001b[0m \u001b[0;32mnot\u001b[0m \u001b[0mskip_hessian\u001b[0m\u001b[0;34m:\u001b[0m\u001b[0;34m\u001b[0m\u001b[0;34m\u001b[0m\u001b[0m\n\u001b[1;32m    479\u001b[0m             \u001b[0mH\u001b[0m \u001b[0;34m=\u001b[0m \u001b[0;34m-\u001b[0m\u001b[0;36m1\u001b[0m \u001b[0;34m*\u001b[0m \u001b[0mself\u001b[0m\u001b[0;34m.\u001b[0m\u001b[0mhessian\u001b[0m\u001b[0;34m(\u001b[0m\u001b[0mxopt\u001b[0m\u001b[0;34m)\u001b[0m\u001b[0;34m\u001b[0m\u001b[0;34m\u001b[0m\u001b[0m\n",
            "\u001b[0;32m<__array_function__ internals>\u001b[0m in \u001b[0;36minv\u001b[0;34m(*args, **kwargs)\u001b[0m\n",
            "\u001b[0;32m/usr/local/lib/python3.7/dist-packages/numpy/linalg/linalg.py\u001b[0m in \u001b[0;36minv\u001b[0;34m(a)\u001b[0m\n\u001b[1;32m    543\u001b[0m     \u001b[0msignature\u001b[0m \u001b[0;34m=\u001b[0m \u001b[0;34m'D->D'\u001b[0m \u001b[0;32mif\u001b[0m \u001b[0misComplexType\u001b[0m\u001b[0;34m(\u001b[0m\u001b[0mt\u001b[0m\u001b[0;34m)\u001b[0m \u001b[0;32melse\u001b[0m \u001b[0;34m'd->d'\u001b[0m\u001b[0;34m\u001b[0m\u001b[0;34m\u001b[0m\u001b[0m\n\u001b[1;32m    544\u001b[0m     \u001b[0mextobj\u001b[0m \u001b[0;34m=\u001b[0m \u001b[0mget_linalg_error_extobj\u001b[0m\u001b[0;34m(\u001b[0m\u001b[0m_raise_linalgerror_singular\u001b[0m\u001b[0;34m)\u001b[0m\u001b[0;34m\u001b[0m\u001b[0;34m\u001b[0m\u001b[0m\n\u001b[0;32m--> 545\u001b[0;31m     \u001b[0mainv\u001b[0m \u001b[0;34m=\u001b[0m \u001b[0m_umath_linalg\u001b[0m\u001b[0;34m.\u001b[0m\u001b[0minv\u001b[0m\u001b[0;34m(\u001b[0m\u001b[0ma\u001b[0m\u001b[0;34m,\u001b[0m \u001b[0msignature\u001b[0m\u001b[0;34m=\u001b[0m\u001b[0msignature\u001b[0m\u001b[0;34m,\u001b[0m \u001b[0mextobj\u001b[0m\u001b[0;34m=\u001b[0m\u001b[0mextobj\u001b[0m\u001b[0;34m)\u001b[0m\u001b[0;34m\u001b[0m\u001b[0;34m\u001b[0m\u001b[0m\n\u001b[0m\u001b[1;32m    546\u001b[0m     \u001b[0;32mreturn\u001b[0m \u001b[0mwrap\u001b[0m\u001b[0;34m(\u001b[0m\u001b[0mainv\u001b[0m\u001b[0;34m.\u001b[0m\u001b[0mastype\u001b[0m\u001b[0;34m(\u001b[0m\u001b[0mresult_t\u001b[0m\u001b[0;34m,\u001b[0m \u001b[0mcopy\u001b[0m\u001b[0;34m=\u001b[0m\u001b[0;32mFalse\u001b[0m\u001b[0;34m)\u001b[0m\u001b[0;34m)\u001b[0m\u001b[0;34m\u001b[0m\u001b[0;34m\u001b[0m\u001b[0m\n\u001b[1;32m    547\u001b[0m \u001b[0;34m\u001b[0m\u001b[0m\n",
            "\u001b[0;32m/usr/local/lib/python3.7/dist-packages/numpy/linalg/linalg.py\u001b[0m in \u001b[0;36m_raise_linalgerror_singular\u001b[0;34m(err, flag)\u001b[0m\n\u001b[1;32m     86\u001b[0m \u001b[0;34m\u001b[0m\u001b[0m\n\u001b[1;32m     87\u001b[0m \u001b[0;32mdef\u001b[0m \u001b[0m_raise_linalgerror_singular\u001b[0m\u001b[0;34m(\u001b[0m\u001b[0merr\u001b[0m\u001b[0;34m,\u001b[0m \u001b[0mflag\u001b[0m\u001b[0;34m)\u001b[0m\u001b[0;34m:\u001b[0m\u001b[0;34m\u001b[0m\u001b[0;34m\u001b[0m\u001b[0m\n\u001b[0;32m---> 88\u001b[0;31m     \u001b[0;32mraise\u001b[0m \u001b[0mLinAlgError\u001b[0m\u001b[0;34m(\u001b[0m\u001b[0;34m\"Singular matrix\"\u001b[0m\u001b[0;34m)\u001b[0m\u001b[0;34m\u001b[0m\u001b[0;34m\u001b[0m\u001b[0m\n\u001b[0m\u001b[1;32m     89\u001b[0m \u001b[0;34m\u001b[0m\u001b[0m\n\u001b[1;32m     90\u001b[0m \u001b[0;32mdef\u001b[0m \u001b[0m_raise_linalgerror_nonposdef\u001b[0m\u001b[0;34m(\u001b[0m\u001b[0merr\u001b[0m\u001b[0;34m,\u001b[0m \u001b[0mflag\u001b[0m\u001b[0;34m)\u001b[0m\u001b[0;34m:\u001b[0m\u001b[0;34m\u001b[0m\u001b[0;34m\u001b[0m\u001b[0m\n",
            "\u001b[0;31mLinAlgError\u001b[0m: Singular matrix"
          ]
        }
      ],
      "source": [
        "#model = model.fit()   #singular matrix problem, type of data "
      ]
    },
    {
      "cell_type": "markdown",
      "metadata": {
        "id": "3RPke87glMSI"
      },
      "source": [
        "## 5.2 Other logistic regression with summary variables to avoid singularity problem"
      ]
    },
    {
      "cell_type": "code",
      "source": [
        "data_copy = data.copy()"
      ],
      "metadata": {
        "id": "2gQdTw95mZjt"
      },
      "execution_count": null,
      "outputs": []
    },
    {
      "cell_type": "code",
      "execution_count": null,
      "metadata": {
        "id": "X3MrepijcT4c"
      },
      "outputs": [],
      "source": [
        "data_copy[\"wtp\"] = (data_copy[\"q0001\"] + data_copy[\"q0002\"]+ data_copy[\"q0003\"] + data_copy[\"q0005\"]+ data_copy[\"q0006\"])/5"
      ]
    },
    {
      "cell_type": "code",
      "execution_count": null,
      "metadata": {
        "id": "SepT7Nf4c-cY"
      },
      "outputs": [],
      "source": [
        "data_copy[\"whi\"]= (data_copy[\"q0031\"] + data_copy[\"q0032\"] + data_copy[\"q0037\"] + data_copy[\"q0038\"] + data_copy[\"q0039\"] + data_copy[\"q0041\"] + data_copy[\"q0042\"] + data_copy[\"q0043\"])/8"
      ]
    },
    {
      "cell_type": "code",
      "execution_count": null,
      "metadata": {
        "id": "IOR-YiHXeQns"
      },
      "outputs": [],
      "source": [
        "data_copy[\"mental\"] = (data_copy[\"q0044\"] + data_copy[\"q0045\"] + data_copy[\"q0046\"] + data_copy[\"q0049\"] + data_copy[\"q0053\"]+ data_copy[\"q0054\"] + data_copy[\"q0055\"] + data_copy[\"q0056\"] + data_copy[\"q0059\"])/9"
      ]
    },
    {
      "cell_type": "code",
      "execution_count": null,
      "metadata": {
        "id": "NRjF8eP1e2JJ"
      },
      "outputs": [],
      "source": [
        "X2 = data_copy[[\"wtp\",\"whi\",\"mental\", \"q0099\"]]"
      ]
    },
    {
      "cell_type": "code",
      "execution_count": null,
      "metadata": {
        "id": "0mvgfxQofDCG"
      },
      "outputs": [],
      "source": [
        "X2_train, X2_test, y_train, y_test = train_test_split(X2, y, test_size=0.30, random_state=1)"
      ]
    },
    {
      "cell_type": "code",
      "execution_count": null,
      "metadata": {
        "id": "W7dOdukOfLYE"
      },
      "outputs": [],
      "source": [
        "X2_train = sm.add_constant(X2_train)  #adds intercept\n",
        "model2= sm.Logit(y_train, X2_train)  #logistic regression"
      ]
    },
    {
      "cell_type": "code",
      "execution_count": null,
      "metadata": {
        "colab": {
          "base_uri": "https://localhost:8080/"
        },
        "id": "9pXQTowlfS0G",
        "outputId": "5e16b867-c78b-42f9-d109-ec7107a52bb3"
      },
      "outputs": [
        {
          "output_type": "stream",
          "name": "stdout",
          "text": [
            "Optimization terminated successfully.\n",
            "         Current function value: 0.150495\n",
            "         Iterations 9\n"
          ]
        }
      ],
      "source": [
        "model2 = model2.fit()"
      ]
    },
    {
      "cell_type": "code",
      "execution_count": null,
      "metadata": {
        "colab": {
          "base_uri": "https://localhost:8080/"
        },
        "id": "g3nUgjApfjEW",
        "outputId": "ec37d41e-8a05-484f-875e-d4bdb01e38a0"
      },
      "outputs": [
        {
          "output_type": "stream",
          "name": "stdout",
          "text": [
            "                           Logit Regression Results                           \n",
            "==============================================================================\n",
            "Dep. Variable:                burnout   No. Observations:                  124\n",
            "Model:                          Logit   Df Residuals:                      119\n",
            "Method:                           MLE   Df Model:                            4\n",
            "Date:                Sat, 21 May 2022   Pseudo R-squ.:                  0.6234\n",
            "Time:                        17:38:16   Log-Likelihood:                -18.661\n",
            "converged:                       True   LL-Null:                       -49.558\n",
            "Covariance Type:            nonrobust   LLR p-value:                 1.218e-12\n",
            "==============================================================================\n",
            "                 coef    std err          z      P>|z|      [0.025      0.975]\n",
            "------------------------------------------------------------------------------\n",
            "const        -11.9353      6.620     -1.803      0.071     -24.910       1.039\n",
            "wtp           -2.7242      1.408     -1.935      0.053      -5.483       0.035\n",
            "whi            1.3257      1.856      0.714      0.475      -2.312       4.964\n",
            "mental         3.7759      1.054      3.583      0.000       1.710       5.841\n",
            "q0099          0.2077      0.411      0.505      0.613      -0.598       1.013\n",
            "==============================================================================\n",
            "\n",
            "Possibly complete quasi-separation: A fraction 0.12 of observations can be\n",
            "perfectly predicted. This might indicate that there is complete\n",
            "quasi-separation. In this case some parameters will not be identified.\n"
          ]
        }
      ],
      "source": [
        "print(model2.summary())"
      ]
    },
    {
      "cell_type": "code",
      "execution_count": null,
      "metadata": {
        "colab": {
          "base_uri": "https://localhost:8080/"
        },
        "id": "Nszb4Z2KuAdt",
        "outputId": "c675c538-2cbd-4c9b-ea1f-a917f462f3f1"
      },
      "outputs": [
        {
          "output_type": "execute_result",
          "data": {
            "text/plain": [
              "const    -11.935328\n",
              "wtp       -2.724186\n",
              "whi        1.325750\n",
              "mental     3.775861\n",
              "q0099      0.207677\n",
              "dtype: float64"
            ]
          },
          "metadata": {},
          "execution_count": 37
        }
      ],
      "source": [
        "model2.params"
      ]
    },
    {
      "cell_type": "code",
      "execution_count": null,
      "metadata": {
        "colab": {
          "base_uri": "https://localhost:8080/"
        },
        "id": "V8AQ2tzdsUni",
        "outputId": "e6aefe62-131c-4b4a-dbf4-b2b68a051e4f"
      },
      "outputs": [
        {
          "output_type": "execute_result",
          "data": {
            "text/plain": [
              "const    -0.000000\n",
              "wtp      -1.278160\n",
              "whi       0.553178\n",
              "mental    3.184642\n",
              "q0099     0.198030\n",
              "dtype: float64"
            ]
          },
          "metadata": {},
          "execution_count": 42
        }
      ],
      "source": [
        "standardized_effects = X2_train.std() * model2.params \n",
        "standardized_effects"
      ]
    },
    {
      "cell_type": "code",
      "execution_count": null,
      "metadata": {
        "colab": {
          "base_uri": "https://localhost:8080/"
        },
        "id": "CSMlsU8Euhyv",
        "outputId": "a41f1e88-c432-4a47-f394-0650151ae2ee"
      },
      "outputs": [
        {
          "output_type": "execute_result",
          "data": {
            "text/plain": [
              "const      1.000000\n",
              "wtp        0.278549\n",
              "whi        1.738770\n",
              "mental    24.158648\n",
              "q0099      1.218999\n",
              "dtype: float64"
            ]
          },
          "metadata": {},
          "execution_count": 43
        }
      ],
      "source": [
        "np.exp(standardized_effects)"
      ]
    },
    {
      "cell_type": "code",
      "execution_count": null,
      "metadata": {
        "id": "gAnbZy4yu6K3",
        "colab": {
          "base_uri": "https://localhost:8080/"
        },
        "outputId": "568b32ee-ceeb-476f-9f65-46a22d64def1"
      },
      "outputs": [
        {
          "output_type": "stream",
          "name": "stderr",
          "text": [
            "/usr/local/lib/python3.7/dist-packages/statsmodels/tsa/tsatools.py:117: FutureWarning: In a future version of pandas all arguments of concat except for the argument 'objs' will be keyword-only\n",
            "  x = pd.concat(x[::order], 1)\n"
          ]
        }
      ],
      "source": [
        "y_test_pred = model2.predict(sm.add_constant(X2_test))"
      ]
    },
    {
      "cell_type": "code",
      "execution_count": null,
      "metadata": {
        "id": "OVSPXPsMvB1S"
      },
      "outputs": [],
      "source": [
        "y_test_predclass = (y_test_pred > 0.5).astype(int)"
      ]
    },
    {
      "cell_type": "code",
      "execution_count": null,
      "metadata": {
        "id": "QNU8sFNmvMFd"
      },
      "outputs": [],
      "source": [
        "from sklearn.metrics import confusion_matrix, classification_report, roc_auc_score, roc_curve"
      ]
    },
    {
      "cell_type": "code",
      "execution_count": null,
      "metadata": {
        "colab": {
          "base_uri": "https://localhost:8080/"
        },
        "id": "R-w1DuNlvKP5",
        "outputId": "4b301450-4477-4609-d589-966b21396bae"
      },
      "outputs": [
        {
          "output_type": "stream",
          "name": "stdout",
          "text": [
            "              precision    recall  f1-score   support\n",
            "\n",
            "           0       0.98      0.91      0.95        47\n",
            "           1       0.60      0.86      0.71         7\n",
            "\n",
            "    accuracy                           0.91        54\n",
            "   macro avg       0.79      0.89      0.83        54\n",
            "weighted avg       0.93      0.91      0.91        54\n",
            "\n"
          ]
        }
      ],
      "source": [
        "print(classification_report(y_test, y_test_predclass))"
      ]
    },
    {
      "cell_type": "code",
      "execution_count": null,
      "metadata": {
        "colab": {
          "base_uri": "https://localhost:8080/"
        },
        "id": "_t-m_Nq6vZR-",
        "outputId": "806b4c44-f590-4df8-9d5d-156db9ecc9e9"
      },
      "outputs": [
        {
          "output_type": "execute_result",
          "data": {
            "text/plain": [
              "0.9665653495440729"
            ]
          },
          "metadata": {},
          "execution_count": 51
        }
      ],
      "source": [
        "roc_auc_score(y_test, y_test_pred)"
      ]
    },
    {
      "cell_type": "markdown",
      "metadata": {
        "id": "UhyPHRMWDLxc"
      },
      "source": [
        "## 5.3 Linear regression with q0051 (scale 1- never to 7-always)"
      ]
    },
    {
      "cell_type": "code",
      "execution_count": null,
      "metadata": {
        "id": "WSDnZAYGF2OT"
      },
      "outputs": [],
      "source": [
        "y = data[\"q0051\"]\n",
        "X= data.drop([\"burnout\",\"q0051\"], axis = 1)"
      ]
    },
    {
      "cell_type": "code",
      "execution_count": null,
      "metadata": {
        "id": "khFy4H7D1a8A"
      },
      "outputs": [],
      "source": [
        "X_train, X_test, y_train, y_test = train_test_split(X, y, test_size=0.30, random_state=1)"
      ]
    },
    {
      "cell_type": "code",
      "execution_count": null,
      "metadata": {
        "colab": {
          "base_uri": "https://localhost:8080/"
        },
        "id": "OOTB6naFDRNx",
        "outputId": "8da78200-988a-4978-9e0a-26bd362928c4"
      },
      "outputs": [
        {
          "output_type": "stream",
          "name": "stderr",
          "text": [
            "/usr/local/lib/python3.7/dist-packages/statsmodels/tsa/tsatools.py:117: FutureWarning: In a future version of pandas all arguments of concat except for the argument 'objs' will be keyword-only\n",
            "  x = pd.concat(x[::order], 1)\n"
          ]
        }
      ],
      "source": [
        "X_train = sm.add_constant(X_train, prepend = False) \n",
        "model = sm.OLS(y_train, X_train)"
      ]
    },
    {
      "cell_type": "code",
      "execution_count": null,
      "metadata": {
        "colab": {
          "base_uri": "https://localhost:8080/"
        },
        "id": "SpW_sgEADnSQ",
        "outputId": "e818bcf9-91f0-4b62-f611-408c0d28dd98"
      },
      "outputs": [
        {
          "output_type": "stream",
          "name": "stdout",
          "text": [
            "                            OLS Regression Results                            \n",
            "==============================================================================\n",
            "Dep. Variable:                  q0051   R-squared:                       0.836\n",
            "Model:                            OLS   Adj. R-squared:                  0.799\n",
            "Method:                 Least Squares   F-statistic:                     22.21\n",
            "Date:                Tue, 24 May 2022   Prob (F-statistic):           1.45e-29\n",
            "Time:                        15:40:24   Log-Likelihood:                -80.271\n",
            "No. Observations:                 124   AIC:                             208.5\n",
            "Df Residuals:                     100   BIC:                             276.2\n",
            "Df Model:                          23                                         \n",
            "Covariance Type:            nonrobust                                         \n",
            "==============================================================================\n",
            "                 coef    std err          t      P>|t|      [0.025      0.975]\n",
            "------------------------------------------------------------------------------\n",
            "q0001          0.0157      0.097      0.161      0.872      -0.177       0.208\n",
            "q0002         -0.0496      0.114     -0.435      0.664      -0.276       0.176\n",
            "q0003          0.1473      0.104      1.416      0.160      -0.059       0.354\n",
            "q0005         -0.3280      0.099     -3.320      0.001      -0.524      -0.132\n",
            "q0006          0.4135      0.119      3.480      0.001       0.178       0.649\n",
            "q0031          0.0092      0.117      0.078      0.938      -0.223       0.241\n",
            "q0032         -0.2193      0.103     -2.133      0.035      -0.423      -0.015\n",
            "q0037          0.1109      0.103      1.079      0.283      -0.093       0.315\n",
            "q0038          0.1006      0.102      0.985      0.327      -0.102       0.303\n",
            "q0039         -0.1201      0.082     -1.468      0.145      -0.282       0.042\n",
            "q0041          0.2063      0.109      1.892      0.061      -0.010       0.423\n",
            "q0042          0.0315      0.109      0.290      0.773      -0.184       0.247\n",
            "q0043          0.0323      0.080      0.403      0.688      -0.127       0.191\n",
            "q0044          0.2420      0.081      2.978      0.004       0.081       0.403\n",
            "q0045          0.0413      0.070      0.588      0.558      -0.098       0.181\n",
            "q0046      -4.418e-05      0.051     -0.001      0.999      -0.101       0.101\n",
            "q0049         -0.0109      0.055     -0.198      0.844      -0.120       0.098\n",
            "q0053          0.1505      0.059      2.537      0.013       0.033       0.268\n",
            "q0054          0.1578      0.068      2.307      0.023       0.022       0.293\n",
            "q0055          0.1405      0.066      2.113      0.037       0.009       0.272\n",
            "q0056         -0.0079      0.041     -0.193      0.848      -0.090       0.074\n",
            "q0059          0.2823      0.077      3.669      0.000       0.130       0.435\n",
            "q0099         -0.0278      0.060     -0.466      0.643      -0.147       0.091\n",
            "const         -0.8713      0.431     -2.023      0.046      -1.726      -0.017\n",
            "==============================================================================\n",
            "Omnibus:                        0.368   Durbin-Watson:                   2.134\n",
            "Prob(Omnibus):                  0.832   Jarque-Bera (JB):                0.192\n",
            "Skew:                          -0.093   Prob(JB):                        0.909\n",
            "Kurtosis:                       3.050   Cond. No.                         117.\n",
            "==============================================================================\n",
            "\n",
            "Warnings:\n",
            "[1] Standard Errors assume that the covariance matrix of the errors is correctly specified.\n"
          ]
        }
      ],
      "source": [
        "model = model.fit()\n",
        "print(model.summary())"
      ]
    },
    {
      "cell_type": "code",
      "execution_count": null,
      "metadata": {
        "colab": {
          "base_uri": "https://localhost:8080/"
        },
        "id": "pOm__M0OY6b2",
        "outputId": "c77b2abe-ff12-414f-e58a-d7c63f79eabd"
      },
      "outputs": [
        {
          "output_type": "execute_result",
          "data": {
            "text/plain": [
              "q0046    0.000044\n",
              "q0056    0.007949\n",
              "q0031    0.009167\n",
              "q0049    0.010874\n",
              "q0001    0.015667\n",
              "q0099    0.027848\n",
              "q0042    0.031507\n",
              "q0043    0.032296\n",
              "q0045    0.041307\n",
              "q0002    0.049595\n",
              "q0038    0.100550\n",
              "q0037    0.110931\n",
              "q0039    0.120115\n",
              "q0055    0.140464\n",
              "q0003    0.147288\n",
              "q0053    0.150510\n",
              "q0054    0.157750\n",
              "q0041    0.206287\n",
              "q0032    0.219312\n",
              "q0044    0.242000\n",
              "q0059    0.282252\n",
              "q0005    0.327963\n",
              "q0006    0.413485\n",
              "const    0.871350\n",
              "dtype: float64"
            ]
          },
          "metadata": {},
          "execution_count": 45
        }
      ],
      "source": [
        "model.params.abs().sort_values()"
      ]
    },
    {
      "cell_type": "markdown",
      "metadata": {
        "id": "FD4Tb9WAHmPD"
      },
      "source": [
        "<p align =\"justify\">No surprise here as q0044 is \"I feel mentally exhausted by my work\". Nevertheless, on the whole it looks quite evenly distributed.</p>\n",
        "\n",
        "<p align =\"justify\">Interesting enough: q0042 is \"How often does it happen that your work takes the time that you would rather spend on\n",
        "your partner/family/friends?\"</p>\n"
      ]
    },
    {
      "cell_type": "markdown",
      "metadata": {
        "id": "rRjNlSjf_WBT"
      },
      "source": [
        "# 6) Tree Regression "
      ]
    },
    {
      "cell_type": "code",
      "execution_count": null,
      "metadata": {
        "id": "lLmn9inj_Y3L"
      },
      "outputs": [],
      "source": [
        "import matplotlib as plt\n",
        "\n",
        "from sklearn.tree import DecisionTreeRegressor\n",
        "from sklearn.metrics import mean_squared_error, mean_absolute_percentage_error\n",
        "\n",
        "from sklearn.model_selection import train_test_split, GridSearchCV\n",
        "from sklearn.metrics import classification_report\n",
        "from sklearn.tree import DecisionTreeClassifier"
      ]
    },
    {
      "cell_type": "code",
      "execution_count": null,
      "metadata": {
        "id": "X_P5556oAWD2"
      },
      "outputs": [],
      "source": [
        "y = data[\"burnout\"]\n",
        "X= data.drop([\"burnout\",\"q0051\"], axis = 1)"
      ]
    },
    {
      "cell_type": "code",
      "execution_count": null,
      "metadata": {
        "id": "UVOEHxPoAWvX"
      },
      "outputs": [],
      "source": [
        "X_train, X_test, y_train, y_test = train_test_split(X, y, test_size=0.30, shuffle=False)"
      ]
    },
    {
      "cell_type": "code",
      "execution_count": null,
      "metadata": {
        "id": "Ybs85hmCAaTX"
      },
      "outputs": [],
      "source": [
        "modeltree  = DecisionTreeRegressor(max_depth=2, random_state = 11) #please define a random_state\n",
        "\n",
        "reg = modeltree.fit(X_train,y_train)"
      ]
    },
    {
      "cell_type": "code",
      "execution_count": null,
      "metadata": {
        "id": "6ZD0-k-SAc2I"
      },
      "outputs": [],
      "source": [
        "y_pred= modeltree.predict(X_test)\n"
      ]
    },
    {
      "cell_type": "code",
      "execution_count": null,
      "metadata": {
        "colab": {
          "base_uri": "https://localhost:8080/"
        },
        "id": "iqy5_H5hCTNw",
        "outputId": "0f600086-4e03-4548-ca27-1f238b30e73c"
      },
      "outputs": [
        {
          "output_type": "execute_result",
          "data": {
            "text/plain": [
              "{'max_depth': range(1, 30), 'min_samples_leaf': [1, 10, 20, 30, 50, 60]}"
            ]
          },
          "metadata": {},
          "execution_count": 51
        }
      ],
      "source": [
        "parameters = {\"max_depth\":range(1,30),\n",
        "              \"min_samples_leaf\":[1, 10, 20, 30, 50, 60]}\n",
        "parameters"
      ]
    },
    {
      "cell_type": "code",
      "execution_count": null,
      "metadata": {
        "id": "yOhS8zwECXwO"
      },
      "outputs": [],
      "source": [
        "tree_CV = GridSearchCV(DecisionTreeClassifier(criterion=\"entropy\", random_state = 1), parameters, cv=5)"
      ]
    },
    {
      "cell_type": "code",
      "execution_count": null,
      "metadata": {
        "colab": {
          "base_uri": "https://localhost:8080/"
        },
        "id": "hCmJB4TBCacb",
        "outputId": "ef9e1059-5c80-4ed9-f2db-53b833842280"
      },
      "outputs": [
        {
          "output_type": "execute_result",
          "data": {
            "text/plain": [
              "GridSearchCV(cv=5,\n",
              "             estimator=DecisionTreeClassifier(criterion='entropy',\n",
              "                                              random_state=1),\n",
              "             param_grid={'max_depth': range(1, 30),\n",
              "                         'min_samples_leaf': [1, 10, 20, 30, 50, 60]})"
            ]
          },
          "metadata": {},
          "execution_count": 53
        }
      ],
      "source": [
        "tree_CV.fit(X_train, y_train)"
      ]
    },
    {
      "cell_type": "code",
      "execution_count": null,
      "metadata": {
        "colab": {
          "base_uri": "https://localhost:8080/"
        },
        "id": "Fp11vsgMCpSB",
        "outputId": "bf230d95-fcc7-4cc0-8700-4f7580121cdc"
      },
      "outputs": [
        {
          "output_type": "execute_result",
          "data": {
            "text/plain": [
              "{'max_depth': 4, 'min_samples_leaf': 1}"
            ]
          },
          "metadata": {},
          "execution_count": 54
        }
      ],
      "source": [
        "tree_CV.best_params_"
      ]
    },
    {
      "cell_type": "code",
      "execution_count": null,
      "metadata": {
        "colab": {
          "base_uri": "https://localhost:8080/"
        },
        "id": "oZIH6hSwCsHn",
        "outputId": "1bcf8130-f0b8-46f1-ebef-1337f1659e70"
      },
      "outputs": [
        {
          "output_type": "stream",
          "name": "stdout",
          "text": [
            "              precision    recall  f1-score   support\n",
            "\n",
            "           0       0.94      1.00      0.97        49\n",
            "           1       1.00      0.40      0.57         5\n",
            "\n",
            "    accuracy                           0.94        54\n",
            "   macro avg       0.97      0.70      0.77        54\n",
            "weighted avg       0.95      0.94      0.93        54\n",
            "\n"
          ]
        }
      ],
      "source": [
        "y_pred_class = tree_CV.predict(X_test)\n",
        "print(classification_report(y_test, y_pred_class))"
      ]
    },
    {
      "cell_type": "code",
      "execution_count": null,
      "metadata": {
        "colab": {
          "base_uri": "https://localhost:8080/"
        },
        "id": "db5Mn1MdIkLV",
        "outputId": "7442fe17-c231-4144-ac24-ddbe76d5cbde"
      },
      "outputs": [
        {
          "output_type": "stream",
          "name": "stdout",
          "text": [
            "RMSE:  0.1917858278676792\n",
            "MAPE: 96448971611613.02 very high MAPE because values close to 0 as it is a binary prediction in the end\n",
            "R2:  0.6994765826129953\n"
          ]
        }
      ],
      "source": [
        "print('RMSE: ', mean_squared_error(y_test, y_pred, squared=False))\n",
        "print('MAPE:', mean_absolute_percentage_error(y_test,y_pred), 'very high MAPE because values close to 0 as it is a binary prediction in the end')\n",
        "print('R2: ', modeltree.score(X_train, y_train))"
      ]
    },
    {
      "cell_type": "markdown",
      "metadata": {
        "id": "-Mb5__ICIxer"
      },
      "source": [
        "# 7) Random Forrest Regression "
      ]
    },
    {
      "cell_type": "code",
      "execution_count": null,
      "metadata": {
        "id": "kQliTfahI2Ck"
      },
      "outputs": [],
      "source": [
        "from sklearn.ensemble import RandomForestRegressor\n",
        "from sklearn.metrics import classification_report\n",
        "from sklearn.model_selection import GridSearchCV\n",
        "from sklearn.metrics import mean_absolute_error, mean_absolute_percentage_error, mean_squared_error"
      ]
    },
    {
      "cell_type": "code",
      "execution_count": null,
      "metadata": {
        "id": "Bzse-vGOJ9qG"
      },
      "outputs": [],
      "source": [
        "y = data[\"q0051\"]  #range 1-7\n",
        "X= data.drop([\"burnout\",\"q0051\"], axis = 1)\n",
        "X_train, X_test, y_train, y_test = train_test_split(X, y, test_size=0.30, random_state=1)"
      ]
    },
    {
      "cell_type": "code",
      "execution_count": null,
      "metadata": {
        "colab": {
          "base_uri": "https://localhost:8080/",
          "height": 235
        },
        "id": "rxkYfSY_QY9H",
        "outputId": "b7d4a122-03ee-4ab5-83b2-59528e17b836"
      },
      "outputs": [
        {
          "output_type": "execute_result",
          "data": {
            "text/plain": [
              "   q0001  q0002  q0003  q0005  q0006  q0031  q0032  q0037  q0038  q0039  ...  \\\n",
              "0    4.0    4.0    4.0    2.0    3.0    3.0    3.0    3.0    2.0    3.0  ...   \n",
              "1    2.0    3.0    2.0    2.0    2.0    2.0    2.0    2.0    2.0    2.0  ...   \n",
              "2    4.0    4.0    4.0    2.0    2.0    3.0    2.0    2.0    3.0    2.0  ...   \n",
              "3    3.0    3.0    3.0    3.0    2.0    2.0    3.0    3.0    3.0    3.0  ...   \n",
              "4    3.0    2.0    1.0    3.0    2.0    1.0    2.0    3.0    3.0    3.0  ...   \n",
              "\n",
              "   q0046  q0049  q0051  q0053  q0054  q0055  q0056  q0059  q0099  burnout  \n",
              "0    3.0    3.0    4.0    5.0    3.0    4.0    4.0    2.0    5.0        1  \n",
              "1    3.0    3.0    2.0    3.0    3.0    3.0    4.0    3.0    4.0        0  \n",
              "2    3.0    4.0    4.0    2.0    3.0    2.0    5.0    3.0    5.0        1  \n",
              "3    5.0    4.0    3.0    3.0    3.0    2.0    5.0    5.0    4.0        0  \n",
              "4    2.0    2.0    3.0    1.0    1.0    2.0    5.0    3.0    3.0        0  \n",
              "\n",
              "[5 rows x 25 columns]"
            ],
            "text/html": [
              "\n",
              "  <div id=\"df-35af10ef-258b-4757-99fb-3f7dc594de02\">\n",
              "    <div class=\"colab-df-container\">\n",
              "      <div>\n",
              "<style scoped>\n",
              "    .dataframe tbody tr th:only-of-type {\n",
              "        vertical-align: middle;\n",
              "    }\n",
              "\n",
              "    .dataframe tbody tr th {\n",
              "        vertical-align: top;\n",
              "    }\n",
              "\n",
              "    .dataframe thead th {\n",
              "        text-align: right;\n",
              "    }\n",
              "</style>\n",
              "<table border=\"1\" class=\"dataframe\">\n",
              "  <thead>\n",
              "    <tr style=\"text-align: right;\">\n",
              "      <th></th>\n",
              "      <th>q0001</th>\n",
              "      <th>q0002</th>\n",
              "      <th>q0003</th>\n",
              "      <th>q0005</th>\n",
              "      <th>q0006</th>\n",
              "      <th>q0031</th>\n",
              "      <th>q0032</th>\n",
              "      <th>q0037</th>\n",
              "      <th>q0038</th>\n",
              "      <th>q0039</th>\n",
              "      <th>...</th>\n",
              "      <th>q0046</th>\n",
              "      <th>q0049</th>\n",
              "      <th>q0051</th>\n",
              "      <th>q0053</th>\n",
              "      <th>q0054</th>\n",
              "      <th>q0055</th>\n",
              "      <th>q0056</th>\n",
              "      <th>q0059</th>\n",
              "      <th>q0099</th>\n",
              "      <th>burnout</th>\n",
              "    </tr>\n",
              "  </thead>\n",
              "  <tbody>\n",
              "    <tr>\n",
              "      <th>0</th>\n",
              "      <td>4.0</td>\n",
              "      <td>4.0</td>\n",
              "      <td>4.0</td>\n",
              "      <td>2.0</td>\n",
              "      <td>3.0</td>\n",
              "      <td>3.0</td>\n",
              "      <td>3.0</td>\n",
              "      <td>3.0</td>\n",
              "      <td>2.0</td>\n",
              "      <td>3.0</td>\n",
              "      <td>...</td>\n",
              "      <td>3.0</td>\n",
              "      <td>3.0</td>\n",
              "      <td>4.0</td>\n",
              "      <td>5.0</td>\n",
              "      <td>3.0</td>\n",
              "      <td>4.0</td>\n",
              "      <td>4.0</td>\n",
              "      <td>2.0</td>\n",
              "      <td>5.0</td>\n",
              "      <td>1</td>\n",
              "    </tr>\n",
              "    <tr>\n",
              "      <th>1</th>\n",
              "      <td>2.0</td>\n",
              "      <td>3.0</td>\n",
              "      <td>2.0</td>\n",
              "      <td>2.0</td>\n",
              "      <td>2.0</td>\n",
              "      <td>2.0</td>\n",
              "      <td>2.0</td>\n",
              "      <td>2.0</td>\n",
              "      <td>2.0</td>\n",
              "      <td>2.0</td>\n",
              "      <td>...</td>\n",
              "      <td>3.0</td>\n",
              "      <td>3.0</td>\n",
              "      <td>2.0</td>\n",
              "      <td>3.0</td>\n",
              "      <td>3.0</td>\n",
              "      <td>3.0</td>\n",
              "      <td>4.0</td>\n",
              "      <td>3.0</td>\n",
              "      <td>4.0</td>\n",
              "      <td>0</td>\n",
              "    </tr>\n",
              "    <tr>\n",
              "      <th>2</th>\n",
              "      <td>4.0</td>\n",
              "      <td>4.0</td>\n",
              "      <td>4.0</td>\n",
              "      <td>2.0</td>\n",
              "      <td>2.0</td>\n",
              "      <td>3.0</td>\n",
              "      <td>2.0</td>\n",
              "      <td>2.0</td>\n",
              "      <td>3.0</td>\n",
              "      <td>2.0</td>\n",
              "      <td>...</td>\n",
              "      <td>3.0</td>\n",
              "      <td>4.0</td>\n",
              "      <td>4.0</td>\n",
              "      <td>2.0</td>\n",
              "      <td>3.0</td>\n",
              "      <td>2.0</td>\n",
              "      <td>5.0</td>\n",
              "      <td>3.0</td>\n",
              "      <td>5.0</td>\n",
              "      <td>1</td>\n",
              "    </tr>\n",
              "    <tr>\n",
              "      <th>3</th>\n",
              "      <td>3.0</td>\n",
              "      <td>3.0</td>\n",
              "      <td>3.0</td>\n",
              "      <td>3.0</td>\n",
              "      <td>2.0</td>\n",
              "      <td>2.0</td>\n",
              "      <td>3.0</td>\n",
              "      <td>3.0</td>\n",
              "      <td>3.0</td>\n",
              "      <td>3.0</td>\n",
              "      <td>...</td>\n",
              "      <td>5.0</td>\n",
              "      <td>4.0</td>\n",
              "      <td>3.0</td>\n",
              "      <td>3.0</td>\n",
              "      <td>3.0</td>\n",
              "      <td>2.0</td>\n",
              "      <td>5.0</td>\n",
              "      <td>5.0</td>\n",
              "      <td>4.0</td>\n",
              "      <td>0</td>\n",
              "    </tr>\n",
              "    <tr>\n",
              "      <th>4</th>\n",
              "      <td>3.0</td>\n",
              "      <td>2.0</td>\n",
              "      <td>1.0</td>\n",
              "      <td>3.0</td>\n",
              "      <td>2.0</td>\n",
              "      <td>1.0</td>\n",
              "      <td>2.0</td>\n",
              "      <td>3.0</td>\n",
              "      <td>3.0</td>\n",
              "      <td>3.0</td>\n",
              "      <td>...</td>\n",
              "      <td>2.0</td>\n",
              "      <td>2.0</td>\n",
              "      <td>3.0</td>\n",
              "      <td>1.0</td>\n",
              "      <td>1.0</td>\n",
              "      <td>2.0</td>\n",
              "      <td>5.0</td>\n",
              "      <td>3.0</td>\n",
              "      <td>3.0</td>\n",
              "      <td>0</td>\n",
              "    </tr>\n",
              "  </tbody>\n",
              "</table>\n",
              "<p>5 rows × 25 columns</p>\n",
              "</div>\n",
              "      <button class=\"colab-df-convert\" onclick=\"convertToInteractive('df-35af10ef-258b-4757-99fb-3f7dc594de02')\"\n",
              "              title=\"Convert this dataframe to an interactive table.\"\n",
              "              style=\"display:none;\">\n",
              "        \n",
              "  <svg xmlns=\"http://www.w3.org/2000/svg\" height=\"24px\"viewBox=\"0 0 24 24\"\n",
              "       width=\"24px\">\n",
              "    <path d=\"M0 0h24v24H0V0z\" fill=\"none\"/>\n",
              "    <path d=\"M18.56 5.44l.94 2.06.94-2.06 2.06-.94-2.06-.94-.94-2.06-.94 2.06-2.06.94zm-11 1L8.5 8.5l.94-2.06 2.06-.94-2.06-.94L8.5 2.5l-.94 2.06-2.06.94zm10 10l.94 2.06.94-2.06 2.06-.94-2.06-.94-.94-2.06-.94 2.06-2.06.94z\"/><path d=\"M17.41 7.96l-1.37-1.37c-.4-.4-.92-.59-1.43-.59-.52 0-1.04.2-1.43.59L10.3 9.45l-7.72 7.72c-.78.78-.78 2.05 0 2.83L4 21.41c.39.39.9.59 1.41.59.51 0 1.02-.2 1.41-.59l7.78-7.78 2.81-2.81c.8-.78.8-2.07 0-2.86zM5.41 20L4 18.59l7.72-7.72 1.47 1.35L5.41 20z\"/>\n",
              "  </svg>\n",
              "      </button>\n",
              "      \n",
              "  <style>\n",
              "    .colab-df-container {\n",
              "      display:flex;\n",
              "      flex-wrap:wrap;\n",
              "      gap: 12px;\n",
              "    }\n",
              "\n",
              "    .colab-df-convert {\n",
              "      background-color: #E8F0FE;\n",
              "      border: none;\n",
              "      border-radius: 50%;\n",
              "      cursor: pointer;\n",
              "      display: none;\n",
              "      fill: #1967D2;\n",
              "      height: 32px;\n",
              "      padding: 0 0 0 0;\n",
              "      width: 32px;\n",
              "    }\n",
              "\n",
              "    .colab-df-convert:hover {\n",
              "      background-color: #E2EBFA;\n",
              "      box-shadow: 0px 1px 2px rgba(60, 64, 67, 0.3), 0px 1px 3px 1px rgba(60, 64, 67, 0.15);\n",
              "      fill: #174EA6;\n",
              "    }\n",
              "\n",
              "    [theme=dark] .colab-df-convert {\n",
              "      background-color: #3B4455;\n",
              "      fill: #D2E3FC;\n",
              "    }\n",
              "\n",
              "    [theme=dark] .colab-df-convert:hover {\n",
              "      background-color: #434B5C;\n",
              "      box-shadow: 0px 1px 3px 1px rgba(0, 0, 0, 0.15);\n",
              "      filter: drop-shadow(0px 1px 2px rgba(0, 0, 0, 0.3));\n",
              "      fill: #FFFFFF;\n",
              "    }\n",
              "  </style>\n",
              "\n",
              "      <script>\n",
              "        const buttonEl =\n",
              "          document.querySelector('#df-35af10ef-258b-4757-99fb-3f7dc594de02 button.colab-df-convert');\n",
              "        buttonEl.style.display =\n",
              "          google.colab.kernel.accessAllowed ? 'block' : 'none';\n",
              "\n",
              "        async function convertToInteractive(key) {\n",
              "          const element = document.querySelector('#df-35af10ef-258b-4757-99fb-3f7dc594de02');\n",
              "          const dataTable =\n",
              "            await google.colab.kernel.invokeFunction('convertToInteractive',\n",
              "                                                     [key], {});\n",
              "          if (!dataTable) return;\n",
              "\n",
              "          const docLinkHtml = 'Like what you see? Visit the ' +\n",
              "            '<a target=\"_blank\" href=https://colab.research.google.com/notebooks/data_table.ipynb>data table notebook</a>'\n",
              "            + ' to learn more about interactive tables.';\n",
              "          element.innerHTML = '';\n",
              "          dataTable['output_type'] = 'display_data';\n",
              "          await google.colab.output.renderOutput(dataTable, element);\n",
              "          const docLink = document.createElement('div');\n",
              "          docLink.innerHTML = docLinkHtml;\n",
              "          element.appendChild(docLink);\n",
              "        }\n",
              "      </script>\n",
              "    </div>\n",
              "  </div>\n",
              "  "
            ]
          },
          "metadata": {},
          "execution_count": 59
        }
      ],
      "source": [
        "data.head()  "
      ]
    },
    {
      "cell_type": "code",
      "execution_count": null,
      "metadata": {
        "id": "tHRgbf6RJejk"
      },
      "outputs": [],
      "source": [
        "forest = RandomForestRegressor(random_state=1)"
      ]
    },
    {
      "cell_type": "code",
      "execution_count": null,
      "metadata": {
        "id": "N1sPhfReJioE"
      },
      "outputs": [],
      "source": [
        "parameters = {'max_depth': range(1,30), 'min_samples_leaf': range(1,30)}\n",
        "forestCV = GridSearchCV(RandomForestRegressor(random_state = 11),parameters, cv =5)"
      ]
    },
    {
      "cell_type": "code",
      "execution_count": null,
      "metadata": {
        "colab": {
          "base_uri": "https://localhost:8080/"
        },
        "id": "Nl1wvZtHKV8N",
        "outputId": "034d94fd-59dd-4c64-b69a-9baadec4267d"
      },
      "outputs": [
        {
          "output_type": "execute_result",
          "data": {
            "text/plain": [
              "GridSearchCV(cv=5, estimator=RandomForestRegressor(random_state=11),\n",
              "             param_grid={'max_depth': range(1, 30),\n",
              "                         'min_samples_leaf': range(1, 30)})"
            ]
          },
          "metadata": {},
          "execution_count": 62
        }
      ],
      "source": [
        "forestCV.fit(X_train, y_train)"
      ]
    },
    {
      "cell_type": "code",
      "execution_count": null,
      "metadata": {
        "colab": {
          "base_uri": "https://localhost:8080/"
        },
        "id": "IahThW-4JnPz",
        "outputId": "d62841c0-91bf-410c-a489-7bc42420d0f4"
      },
      "outputs": [
        {
          "output_type": "execute_result",
          "data": {
            "text/plain": [
              "{'max_depth': 8, 'min_samples_leaf': 1}"
            ]
          },
          "metadata": {},
          "execution_count": 63
        }
      ],
      "source": [
        "forestCV.best_params_"
      ]
    },
    {
      "cell_type": "code",
      "execution_count": null,
      "metadata": {
        "colab": {
          "base_uri": "https://localhost:8080/"
        },
        "id": "H2GPJaT-KN5P",
        "outputId": "bffa7f62-87db-4184-9844-25767284db03"
      },
      "outputs": [
        {
          "output_type": "stream",
          "name": "stdout",
          "text": [
            "best_params_: max_depth = 5, min_samples_leaf = 1\n"
          ]
        }
      ],
      "source": [
        "print('best_params_: max_depth = 5, min_samples_leaf = 1') #I wrote that for safekeeping so as to avoid having to rerun the whole thing"
      ]
    },
    {
      "cell_type": "code",
      "execution_count": null,
      "metadata": {
        "colab": {
          "base_uri": "https://localhost:8080/"
        },
        "id": "ftOxAcb4NREq",
        "outputId": "d00ce65f-c814-48e6-adc4-3484c31ccf88"
      },
      "outputs": [
        {
          "output_type": "execute_result",
          "data": {
            "text/plain": [
              "RandomForestRegressor(max_depth=8)"
            ]
          },
          "metadata": {},
          "execution_count": 65
        }
      ],
      "source": [
        "Forest = RandomForestRegressor(max_depth = forestCV.best_params_['max_depth'], min_samples_leaf = forestCV.best_params_['min_samples_leaf'])\n",
        "Forest.fit(X_train, y_train)"
      ]
    },
    {
      "cell_type": "code",
      "execution_count": null,
      "metadata": {
        "colab": {
          "base_uri": "https://localhost:8080/"
        },
        "id": "eySoLG91NcIF",
        "outputId": "6683a431-bf2b-42ea-950d-4a8e64875ceb"
      },
      "outputs": [
        {
          "output_type": "stream",
          "name": "stdout",
          "text": [
            "RMSE:  0.6944140397391161\n",
            "R2: 0.9571154024357913\n",
            "MAPE: 0.22698552172851408 None\n"
          ]
        }
      ],
      "source": [
        "y_pred_for = Forest.predict(X_test)\n",
        "print('RMSE: ', mean_squared_error(y_test, y_pred_for, squared=False))\n",
        "print('MAPE:', mean_absolute_percentage_error(y_test,y_pred_for), \n",
        "print('R2:', Forest.score(X_train, y_train)))"
      ]
    },
    {
      "cell_type": "code",
      "execution_count": null,
      "metadata": {
        "id": "mjACYQx0OvNO"
      },
      "outputs": [],
      "source": [
        "def plot_variable_importance(model, X_train):\n",
        "    import matplotlib.pyplot as plt\n",
        "    from pandas import DataFrame\n",
        "    imp=DataFrame({\"imp\":model.feature_importances_, \"names\":X_train.columns}).sort_values(\"imp\", ascending=True)\n",
        "    fig, ax = plt.subplots(figsize=(imp.shape[0]/6,imp.shape[0]/5), dpi=300) \n",
        "    ax.barh(imp[\"names\"],imp[\"imp\"], color=\"green\") \n",
        "    ax.set_xlabel('\\nVariable Importance')\n",
        "    ax.set_ylabel('Features\\n') \n",
        "    ax.set_title('Variable Importance Plot\\n') \n",
        "    plt.show() "
      ]
    },
    {
      "cell_type": "code",
      "execution_count": null,
      "metadata": {
        "colab": {
          "base_uri": "https://localhost:8080/",
          "height": 1000
        },
        "id": "pI8XX6VROmNY",
        "outputId": "8c1c4d1b-ee1f-443f-b2c4-4f9f3f4b18a0"
      },
      "outputs": [
        {
          "output_type": "display_data",
          "data": {
            "text/plain": [
              "<Figure size 1150x1380 with 1 Axes>"
            ],
            "image/png": "[encoded data removed]"
          },
          "metadata": {
            "needs_background": "light"
          }
        }
      ],
      "source": [
        "plot_variable_importance(Forest, X_train)"
      ]
    },
    {
      "cell_type": "markdown",
      "metadata": {
        "id": "MUoHP7FwOi9c"
      },
      "source": [
        "# 8) XGBoost Regressor "
      ]
    },
    {
      "cell_type": "code",
      "execution_count": null,
      "metadata": {
        "id": "HQ5duPgvN78e"
      },
      "outputs": [],
      "source": [
        "from xgboost import XGBRegressor\n",
        "modelxgb = XGBRegressor(random_state=1,silent=True, verbose = 0)"
      ]
    },
    {
      "cell_type": "code",
      "execution_count": null,
      "metadata": {
        "id": "HZ8PMCZOOh8S"
      },
      "outputs": [],
      "source": [
        "parameters2 = {'max_depth': range(1,30), 'min_child_weight': range(1,30)}\n",
        "XGBCV = GridSearchCV(XGBRegressor(random_state = 11),parameters2, cv =5, verbose = 0) "
      ]
    },
    {
      "cell_type": "code",
      "execution_count": null,
      "metadata": {
        "colab": {
          "base_uri": "https://localhost:8080/"
        },
        "id": "c1ZRsuxNTBKY",
        "outputId": "553ea361-fb04-4fd7-cdf3-9ee7e9eca2f9"
      },
      "outputs": [
        {
          "output_type": "stream",
          "name": "stdout",
          "text": [
            "Index([], dtype='object')\n"
          ]
        }
      ],
      "source": [
        "duplicate_columns = data.columns[data.columns.duplicated()]\n",
        "print(duplicate_columns)"
      ]
    },
    {
      "cell_type": "code",
      "execution_count": null,
      "metadata": {
        "id": "S7rYzcCPOuQz"
      },
      "outputs": [],
      "source": [
        "XGBCV.fit(X_train, y_train)"
      ]
    },
    {
      "cell_type": "code",
      "execution_count": null,
      "metadata": {
        "colab": {
          "base_uri": "https://localhost:8080/"
        },
        "id": "pSbfMjBvQS2M",
        "outputId": "6d3537ff-a367-4e27-c398-2d3d34ea8314"
      },
      "outputs": [
        {
          "data": {
            "text/plain": [
              "{'max_depth': 2, 'min_child_weight': 2}"
            ]
          },
          "execution_count": 110,
          "metadata": {},
          "output_type": "execute_result"
        }
      ],
      "source": [
        "XGBCV.best_params_"
      ]
    },
    {
      "cell_type": "code",
      "execution_count": null,
      "metadata": {
        "colab": {
          "base_uri": "https://localhost:8080/"
        },
        "id": "1wb3uVuMVMZ4",
        "outputId": "acaba99d-f350-47d1-9c96-ed1e6f5fd3bd"
      },
      "outputs": [
        {
          "name": "stdout",
          "output_type": "stream",
          "text": [
            "best_params_: max_depth = 2, min_child_weight = 1\n"
          ]
        }
      ],
      "source": [
        "print('best_params_: max_depth = 2, min_child_weight = 1') #I wrote that for safekeeping so as to avoid having to rerun the whole thing"
      ]
    },
    {
      "cell_type": "code",
      "execution_count": null,
      "metadata": {
        "colab": {
          "base_uri": "https://localhost:8080/"
        },
        "id": "GCo5fHpeVPJj",
        "outputId": "e96f6f45-7c0f-4a16-fdd5-cea7f601653e"
      },
      "outputs": [
        {
          "name": "stdout",
          "output_type": "stream",
          "text": [
            "[16:50:44] WARNING: /workspace/src/objective/regression_obj.cu:152: reg:linear is now deprecated in favor of reg:squarederror.\n"
          ]
        },
        {
          "data": {
            "text/plain": [
              "XGBRegressor(max_depth=2, min_samples_leaf=2)"
            ]
          },
          "execution_count": 111,
          "metadata": {},
          "output_type": "execute_result"
        }
      ],
      "source": [
        "modelxgb = XGBRegressor(max_depth = XGBCV.best_params_['max_depth'], min_samples_leaf = XGBCV.best_params_['min_child_weight'])\n",
        "modelxgb.fit(X_train, y_train)"
      ]
    },
    {
      "cell_type": "code",
      "execution_count": null,
      "metadata": {
        "colab": {
          "base_uri": "https://localhost:8080/"
        },
        "id": "AZcSU3CJVXhl",
        "outputId": "47178bd6-29b0-4aa2-ae60-c94a5258a2ff"
      },
      "outputs": [
        {
          "name": "stdout",
          "output_type": "stream",
          "text": [
            "RMSE:  0.7078450737060368\n",
            "MAPE: 0.22434432699382037\n",
            "R2:  0.9152976597953961\n"
          ]
        }
      ],
      "source": [
        "y_pred_xgb = modelxgb.predict(X_test)\n",
        "print('RMSE: ', mean_squared_error(y_test, y_pred_xgb, squared=False))\n",
        "print('MAPE:', mean_absolute_percentage_error(y_test,y_pred_xgb))\n",
        "print('R2: ', modelxgb.score(X_train, y_train))#the best out of all the regressors"
      ]
    },
    {
      "cell_type": "markdown",
      "metadata": {
        "id": "mTZzhC4vweTk"
      },
      "source": [
        "# 9) Visualization "
      ]
    },
    {
      "cell_type": "code",
      "execution_count": null,
      "metadata": {
        "id": "y7m7ApJiwhKR"
      },
      "outputs": [],
      "source": [
        "import numpy as np\n",
        "import matplotlib.pyplot as plt\n",
        "def Actual_Predicted_Plot(y_true, y_pred):\n",
        "  min_value = np.array([y_true.min(), y_pred.min()]).min()\n",
        "  max_value = np.array([y_true.max(), y_pred.max()]).max()\n",
        "  fig, ax = plt.subplots(figsize = (10,5))\n",
        "  ax.scatter(y_true, y_pred, color='green')\n",
        "  ax.set_title(\"Actual vs Predicted Plot Forest Regressor\")\n",
        "  ax.set_xlabel('Actual')\n",
        "  ax.set_ylabel('Predicted')\n",
        "  plt.show()"
      ]
    },
    {
      "cell_type": "code",
      "execution_count": null,
      "metadata": {
        "colab": {
          "base_uri": "https://localhost:8080/",
          "height": 350
        },
        "id": "cg3euiUlwhuL",
        "outputId": "57051712-f402-4f9a-b69a-e1f6114a1511"
      },
      "outputs": [
        {
          "data": {
            "image/png": "[encoded data removed]",
            "text/plain": [
              "<Figure size 720x360 with 1 Axes>"
            ]
          },
          "metadata": {
            "needs_background": "light"
          },
          "output_type": "display_data"
        }
      ],
      "source": [
        "Actual_Predicted_Plot(y_test, y_pred_for)"
      ]
    },
    {
      "cell_type": "markdown",
      "metadata": {
        "id": "PZjF9lrchnlL"
      },
      "source": [
        "# 10) Preventive part\n"
      ]
    },
    {
      "cell_type": "markdown",
      "source": [
        "<p align =\"justify\"> Our previous analysis proved that Forest Regressions had the most potential in predicting accurate results. Nevertheless, its potential in a preventive part is outmatched by simple Linear Regressions. Indeed, by construction, the latter calculations are clearly understandable from a simple logical point of view. Thus, it is easier to integrate a system where the user can interact and see the consequences of their actions, when predictions are calculated linearly.</p>\n",
        "\n",
        "\n",
        "<p align =\"justify\">Furthermore, when double-checking the results of the regressions, from a rational perspective the relationship of the variables with their alledged significance in the estimations of a burn out score, made more sense in Linear then in Forrest Regression. We used the linear regression from part 5.3).</p>"
      ],
      "metadata": {
        "id": "gdm39NNlSIwh"
      }
    },
    {
      "cell_type": "code",
      "source": [
        "y = data[\"q0051\"]\n",
        "X= data.drop([\"burnout\",\"q0051\"], axis = 1)"
      ],
      "metadata": {
        "id": "ONU7J773SGY8"
      },
      "execution_count": null,
      "outputs": []
    },
    {
      "cell_type": "code",
      "source": [
        "X_train, X_test, y_train, y_test = train_test_split(X, y, test_size=0.30, random_state=1)"
      ],
      "metadata": {
        "id": "4sKg70mXSZJT"
      },
      "execution_count": null,
      "outputs": []
    },
    {
      "cell_type": "code",
      "source": [
        "X_train = sm.add_constant(X_train, prepend = False) \n",
        "model = sm.OLS(y_train, X_train)"
      ],
      "metadata": {
        "colab": {
          "base_uri": "https://localhost:8080/"
        },
        "id": "MhuOEEpwSl6k",
        "outputId": "3c29eca9-ba2b-4ae0-cf88-2904132defa4"
      },
      "execution_count": null,
      "outputs": [
        {
          "output_type": "stream",
          "name": "stderr",
          "text": [
            "/usr/local/lib/python3.7/dist-packages/statsmodels/tsa/tsatools.py:117: FutureWarning: In a future version of pandas all arguments of concat except for the argument 'objs' will be keyword-only\n",
            "  x = pd.concat(x[::order], 1)\n"
          ]
        }
      ]
    },
    {
      "cell_type": "code",
      "source": [
        "model = model.fit()\n",
        "print(model.summary())"
      ],
      "metadata": {
        "colab": {
          "base_uri": "https://localhost:8080/"
        },
        "id": "E2rkxMJISrwJ",
        "outputId": "4ffe38cc-fb55-4ad4-afc6-19c344e69198"
      },
      "execution_count": null,
      "outputs": [
        {
          "output_type": "stream",
          "name": "stdout",
          "text": [
            "                            OLS Regression Results                            \n",
            "==============================================================================\n",
            "Dep. Variable:                  q0051   R-squared:                       0.836\n",
            "Model:                            OLS   Adj. R-squared:                  0.799\n",
            "Method:                 Least Squares   F-statistic:                     22.21\n",
            "Date:                Tue, 24 May 2022   Prob (F-statistic):           1.45e-29\n",
            "Time:                        15:41:14   Log-Likelihood:                -80.271\n",
            "No. Observations:                 124   AIC:                             208.5\n",
            "Df Residuals:                     100   BIC:                             276.2\n",
            "Df Model:                          23                                         \n",
            "Covariance Type:            nonrobust                                         \n",
            "==============================================================================\n",
            "                 coef    std err          t      P>|t|      [0.025      0.975]\n",
            "------------------------------------------------------------------------------\n",
            "q0001          0.0157      0.097      0.161      0.872      -0.177       0.208\n",
            "q0002         -0.0496      0.114     -0.435      0.664      -0.276       0.176\n",
            "q0003          0.1473      0.104      1.416      0.160      -0.059       0.354\n",
            "q0005         -0.3280      0.099     -3.320      0.001      -0.524      -0.132\n",
            "q0006          0.4135      0.119      3.480      0.001       0.178       0.649\n",
            "q0031          0.0092      0.117      0.078      0.938      -0.223       0.241\n",
            "q0032         -0.2193      0.103     -2.133      0.035      -0.423      -0.015\n",
            "q0037          0.1109      0.103      1.079      0.283      -0.093       0.315\n",
            "q0038          0.1006      0.102      0.985      0.327      -0.102       0.303\n",
            "q0039         -0.1201      0.082     -1.468      0.145      -0.282       0.042\n",
            "q0041          0.2063      0.109      1.892      0.061      -0.010       0.423\n",
            "q0042          0.0315      0.109      0.290      0.773      -0.184       0.247\n",
            "q0043          0.0323      0.080      0.403      0.688      -0.127       0.191\n",
            "q0044          0.2420      0.081      2.978      0.004       0.081       0.403\n",
            "q0045          0.0413      0.070      0.588      0.558      -0.098       0.181\n",
            "q0046      -4.418e-05      0.051     -0.001      0.999      -0.101       0.101\n",
            "q0049         -0.0109      0.055     -0.198      0.844      -0.120       0.098\n",
            "q0053          0.1505      0.059      2.537      0.013       0.033       0.268\n",
            "q0054          0.1578      0.068      2.307      0.023       0.022       0.293\n",
            "q0055          0.1405      0.066      2.113      0.037       0.009       0.272\n",
            "q0056         -0.0079      0.041     -0.193      0.848      -0.090       0.074\n",
            "q0059          0.2823      0.077      3.669      0.000       0.130       0.435\n",
            "q0099         -0.0278      0.060     -0.466      0.643      -0.147       0.091\n",
            "const         -0.8713      0.431     -2.023      0.046      -1.726      -0.017\n",
            "==============================================================================\n",
            "Omnibus:                        0.368   Durbin-Watson:                   2.134\n",
            "Prob(Omnibus):                  0.832   Jarque-Bera (JB):                0.192\n",
            "Skew:                          -0.093   Prob(JB):                        0.909\n",
            "Kurtosis:                       3.050   Cond. No.                         117.\n",
            "==============================================================================\n",
            "\n",
            "Warnings:\n",
            "[1] Standard Errors assume that the covariance matrix of the errors is correctly specified.\n"
          ]
        }
      ]
    },
    {
      "cell_type": "code",
      "source": [
        "model.params.abs().sort_values()"
      ],
      "metadata": {
        "id": "LazYTYGWThG_",
        "outputId": "47269e53-c855-476f-a7a9-6ae94fd23690",
        "colab": {
          "base_uri": "https://localhost:8080/"
        }
      },
      "execution_count": null,
      "outputs": [
        {
          "output_type": "execute_result",
          "data": {
            "text/plain": [
              "q0046    0.000044\n",
              "q0056    0.007949\n",
              "q0031    0.009167\n",
              "q0049    0.010874\n",
              "q0001    0.015667\n",
              "q0099    0.027848\n",
              "q0042    0.031507\n",
              "q0043    0.032296\n",
              "q0045    0.041307\n",
              "q0002    0.049595\n",
              "q0038    0.100550\n",
              "q0037    0.110931\n",
              "q0039    0.120115\n",
              "q0055    0.140464\n",
              "q0003    0.147288\n",
              "q0053    0.150510\n",
              "q0054    0.157750\n",
              "q0041    0.206287\n",
              "q0032    0.219312\n",
              "q0044    0.242000\n",
              "q0059    0.282252\n",
              "q0005    0.327963\n",
              "q0006    0.413485\n",
              "const    0.871350\n",
              "dtype: float64"
            ]
          },
          "metadata": {},
          "execution_count": 50
        }
      ]
    },
    {
      "cell_type": "markdown",
      "metadata": {
        "id": "Z8zvKkjUpucc"
      },
      "source": [
        "##10.1) Inputing Variables (Front-end user Interface)"
      ]
    },
    {
      "cell_type": "markdown",
      "source": [
        "<p align =\"justify\"> We conducted our regressions with the variables which we deemed to be the most most siginificant when preparing our Dataset in parts 2-3. Now, in this part we need the users of our application to answer our shortened survey in order to calculate their burnout scores.</p>\n",
        "\n",
        "<p align =\"justify\"> Once that is done, we group the data into 5 categories, namely: \"Workload, Work Intensity, Social Disatanciation, Mental Exhaustion, and Social Distanciation\". The first four categories comprise the 10 most significant variables in terms of correlation with expected value (note that we replaced Q5 with Q39, as we think it was formulated ambiguously in the original survey), the last category comprises all the remaining variables. We categorized them as such so that the users of our app can have a significant and precise impact on their employees</p>"
      ],
      "metadata": {
        "id": "9DbLu5Jlpp32"
      }
    },
    {
      "cell_type": "code",
      "source": [
        "Q1  = int(input('You have too much work to do? \\nScale: disagree 1-4 agree: '))\n",
        "Q2  = int(input('\\nYou have to work extra hard in order to reach a deadline? \\nScale: disagree 1-4 agree: '))\n",
        "Q3  = int(input('\\nYou have to work at speed? \\nScale: disagree 1-4 agree: '))\n",
        "Q5  = int(input('\\nYou have problems with the work pace? \\nScale: disagree 1-4 agree: '))\n",
        "Q6  = int(input('\\nYou have problems with the workload? \\nScale: disagree 1-4 agree: '))\n",
        "Q31 = int(input('\\nYou are irritable at home because your work is demanding? \\nScale: disagree 1-4 agree: '))\n",
        "Q32 = int(input('\\nYou have difficulties fulfilling your obligations at home? \\nScale: disagree 1-4 agree: '))\n",
        "Q37 = int(input('\\nYour working hours make it difficult to meet your obligations at home? \\nScale: disagree 1-4 agree: '))\n",
        "Q39 = int(input('\\nYou have so much work to do that you do not have time for your hobbies? \\nScale: disagree 1-4 agree: '))\n",
        "Q41 = int(input('\\nThe demands of your work make it difficult to feel relaxed at home? \\nScale: disagree 1-4 agree: '))\n",
        "Q38 = int(input('\\nYou have no energy through your work to do nice things with your \\npartner, family, and or friends? \\nScale: disagree 1-4 agree: '))\n",
        "Q42 = int(input('\\nYour work takes the time that you would rather spend on your \\npartner, family, and or friends? \\nScale: disagree 1-4 agree: '))\n",
        "Q43 = int(input('\\nAfter a pleasant working day/workweek, you would like to do more \\nactivities with your partner,family, and or friends? \\nScale: disagree 1-4 agree: '))\n",
        "Q44 = int(input('\\nI feel mentally exhausted by my work. \\nScale: disagree 1-7 agree: '))\n",
        "Q45 = int(input('\\nI feel empty at the end of a working day. \\nScale: disagree 1-7 agree: '))\n",
        "Q46 = int(input('\\nI feel tired when I get up in the morning, and there is another \\nworking day for me. \\nScale: disagree 1-7 agree: '))\n",
        "Q49 = int(input('\\nWorking with people all day is a heavy burden for me. \\nScale: disagree 1-7 agree: '))\n",
        "Q53 = int(input('\\nI feel that I have become more indifferent to other people since I have this job. \\nScale: disagree 1-7 agree: '))\n",
        "Q54 = int(input('\\nI am concerned that my work dulls me emotionally. \\nScale: disagree 1-7 agree: '))\n",
        "Q55 = int(input('\\nI feel frustrated by my job. \\nScale: disagree 1-7 agree: '))\n",
        "Q56 = int(input('\\nI think I am too much committed to my work. \\nScale: disagree 1-7 agree: '))\n",
        "Q59 = int(input('\\nI feel at the end of my Latin.\\nScale: disagree 1-7 agree: '))\n",
        "Q99 = int(input('\\nHow many hours do you work per week on average? \\nScale: 1 = <30, 2 = 30-40, 3 = 41-50, 4 = 51-60, 5 = >60: '))\n",
        "\n",
        "\n",
        "intercept = model.params['const']\n",
        "workload = (Q32 * model.params['q0032'] + Q6 * model.params['q0006'])\n",
        "work_intensity = (Q3 * model.params['q0003'] + Q41 * model.params['q0041'])\n",
        "social_distan = (Q54 * model.params['q0054'] + Q53 * model.params['q0053'])\n",
        "mental_exhaust = (Q44 * model.params['q0044'] + Q59 * model.params['q0059'] + Q55 * model.params['q0055'])\n",
        "untweakable_var = (Q39 * model.params['q0039'] + Q37 * model.params['q0037'] + Q38 * model.params['q0038'] \n",
        "                    + Q2 * model.params['q0002'] + Q45 * model.params['q0045'] + Q43 * model.params['q0043'] \n",
        "                    + Q42 * model.params['q0042']+ Q99 * model.params['q0099']+ Q1 * model.params['q0001']\n",
        "                    + Q49 * model.params['q0049'] + Q31 * model.params['q0031'] + Q56 * model.params['q0056']\n",
        "                    + Q46 * model.params['q0046'] + Q5 * model.params['q0005'])\n"
      ],
      "metadata": {
        "colab": {
          "base_uri": "https://localhost:8080/"
        },
        "id": "AT2Hn-97n6_U",
        "outputId": "c2ce2d56-dc35-4c4e-c946-f06bc81b3817"
      },
      "execution_count": null,
      "outputs": [
        {
          "name": "stdout",
          "output_type": "stream",
          "text": [
            "You have too much work to do? \n",
            "Scale: disagree 1-4 agree: 1\n",
            "\n",
            "You have to work extra hard in order to reach a deadline? \n",
            "Scale: disagree 1-4 agree: 3\n",
            "\n",
            "You have to work at speed? \n",
            "Scale: disagree 1-4 agree: 1\n",
            "\n",
            "You have problems with the work pace? \n",
            "Scale: disagree 1-4 agree: 2\n",
            "\n",
            "You have problems with the workload? \n",
            "Scale: disagree 1-4 agree: 2\n",
            "\n",
            "You are irritable at home because your work is demanding? \n",
            "Scale: disagree 1-4 agree: 2\n",
            "\n",
            "You have difficulties fulfilling your obligations at home? \n",
            "Scale: disagree 1-4 agree: 2\n",
            "\n",
            "Your working hours make it difficult to meet your obligations at home? \n",
            "Scale: disagree 1-4 agree: 2\n",
            "\n",
            "You have so much work to do that you do not have time for your hobbies? \n",
            "Scale: disagree 1-4 agree: 2\n",
            "\n",
            "The demands of your work make it difficult to feel relaxed at home? \n",
            "Scale: disagree 1-4 agree: 2\n",
            "\n",
            "You have no energy through your work to do nice things with your \n",
            "partner, family, and or friends? \n",
            "Scale: disagree 1-4 agree: 2\n",
            "\n",
            "Your work takes the time that you would rather spend on your \n",
            "partner, family, and or friends? \n",
            "Scale: disagree 1-4 agree: 2\n",
            "\n",
            "After a pleasant working day/workweek, you would like to do more \n",
            "activities with your partner,family, and or friends? \n",
            "Scale: disagree 1-4 agree: 2\n",
            "\n",
            "I feel mentally exhausted by my work. \n",
            "Scale: disagree 1-7 agree: 4\n",
            "\n",
            "I feel empty at the end of a working day. \n",
            "Scale: disagree 1-7 agree: 4\n",
            "\n",
            "I feel tired when I get up in the morning, and there is another \n",
            "working day for me. \n",
            "Scale: disagree 1-7 agree: 4\n",
            "\n",
            "Working with people all day is a heavy burden for me. \n",
            "Scale: disagree 1-7 agree: 4\n",
            "\n",
            "I feel that I have become more indifferent to other people since I have this job. \n",
            "Scale: disagree 1-7 agree: 4\n",
            "\n",
            "I am concerned that my work dulls me emotionally. \n",
            "Scale: disagree 1-7 agree: 4\n",
            "\n",
            "I feel frustrated by my job. \n",
            "Scale: disagree 1-7 agree: 4\n",
            "\n",
            "I think I am too much committed to my work. \n",
            "Scale: disagree 1-7 agree: 4\n",
            "\n",
            "I feel at the end of my Latin.\n",
            "Scale: disagree 1-7 agree: 4\n",
            "\n",
            "How many hours do you work per week on average? \n",
            "Scale: 1 = <30, 2 = 30-40, 3 = 41-50, 4 = 51-60, 5 = >60: 4\n"
          ]
        }
      ]
    },
    {
      "cell_type": "code",
      "execution_count": null,
      "metadata": {
        "id": "-XTM7QT_h42R"
      },
      "outputs": [],
      "source": [
        "def diagnosis():\n",
        "  diagnosis = intercept + workload + work_intensity + social_distan + mental_exhaust + untweakable_var #add this concept in the following equations\n",
        "\n",
        "#We set the threshold of 45% by considering the seven ordinal options that the employee can answer to the question 51. \n",
        "#45% represents the 3rd answer of the ordinal scale i.e. any answer below \"regularly\" is considered as the threshold of \"healthy\" burnout\n",
        "\n",
        "  if diagnosis/7 >= 0.45: \n",
        "    verdict = print('Your employee is over the critical threshold of burn out') \n",
        "  else:\n",
        "    verdict = print('your employee is under the critical threshold of burn out')\n",
        "  burnr = print('Burnout score of:', (diagnosis/7 * 100).round(2), '%')\n",
        "\n"
      ]
    },
    {
      "cell_type": "code",
      "execution_count": null,
      "metadata": {
        "colab": {
          "base_uri": "https://localhost:8080/"
        },
        "id": "MPLC_QQLSpiO",
        "outputId": "bc7b7a91-6ec7-49e6-bc7a-fc51e4926f93"
      },
      "outputs": [
        {
          "output_type": "stream",
          "name": "stdout",
          "text": [
            "Your employee is over the critical threshold of burn out\n",
            "Burnout score of: 49.81 %\n"
          ]
        }
      ],
      "source": [
        "diagnosis()"
      ]
    },
    {
      "cell_type": "markdown",
      "metadata": {
        "id": "uaCoeuHGjz04"
      },
      "source": [
        "## 10.2) Optimization (back-end calculations)"
      ]
    },
    {
      "cell_type": "code",
      "execution_count": null,
      "metadata": {
        "id": "TN-Xdgoui62-"
      },
      "outputs": [],
      "source": [
        "import numpy as np\n",
        "from scipy.optimize import minimize\n",
        "from sympy import symbols, refine, Eq"
      ]
    },
    {
      "cell_type": "code",
      "execution_count": null,
      "metadata": {
        "id": "-d_i2AUUjAH4"
      },
      "outputs": [],
      "source": [
        "def objective_fun(t):\n",
        " t1 = t[0]\n",
        " t2 = t[1]\n",
        " t3 = t[2]\n",
        " t4 = t[3]\n",
        "\n",
        " return t1 * workload + t2 * work_intensity + t3 * social_distan + t4 * mental_exhaust "
      ]
    },
    {
      "cell_type": "code",
      "execution_count": null,
      "metadata": {
        "id": "D8Tu_Ej7jCz3"
      },
      "outputs": [],
      "source": [
        "def inequality_constraint(t):\n",
        " t1 = t[0]\n",
        " t2 = t[1]\n",
        " t3 = t[2]\n",
        " t4 = t[3]\n",
        "\n",
        " r = intercept + untweakable_var \n",
        "\n",
        " eq = t1 * workload + t2 * work_intensity + t3 * social_distan + t4 * mental_exhaust\n",
        " return eq - (abs(r)+1)\n",
        "#the \"r\" on the right signifies that the function has to be greater than the minimum value of indpendent part \n",
        "#of the function + 1 (the lowest score of q0051), namley because our evaluation (burnout or not) is on a scale of 0 to 1"
      ]
    },
    {
      "cell_type": "code",
      "source": [
        "def inequality_constraint3(t):\n",
        " t1 = t[0]\n",
        " t2 = t[1]\n",
        " t3 = t[2]\n",
        " t4 = t[3]\n",
        "\n",
        " r = intercept + untweakable_var \n",
        "\n",
        " eq = t1 * workload + t2 * work_intensity + t3 * social_distan + t4 * mental_exhaust\n",
        " return eq - (abs(r)+3)\n",
        " #Intially: the \"r\" on the right signifies that the function has to be greater than the minimum value of indpendent part \n",
        " #of the function + 5 (the highest score we define that is till under the threshold of\n",
        " #burning out: 75%, scale of q0051 is 1-7, 0,75 * 7 = 5~), \n",
        " #Tehn, I lowered it to three \"3\" which corresponds to occasionally,makes more sense from a qualitative poitnt of view"
      ],
      "metadata": {
        "id": "bsq4fWN_c_FH"
      },
      "execution_count": null,
      "outputs": []
    },
    {
      "cell_type": "code",
      "execution_count": null,
      "metadata": {
        "id": "EES_EWJXjFik"
      },
      "outputs": [],
      "source": [
        "bounds_t1 = (0.1,1.9) \n",
        "bounds_t2 = (0.1,1.9)\n",
        "bounds_t3 = (0.1,1.9)\n",
        "bounds_t4 = (0.1,1.9)\n",
        "\n",
        "#these bounds represent the max percentage increase or decrease of the bounds, mathematically , it is set now to: min 90% decrease max 90% increase, so max decrease: 100% max increase 100%\n",
        "\n",
        "bounds = [bounds_t1,bounds_t2,bounds_t3,bounds_t4]\n",
        "\n",
        "constraint1 = {'type': 'ineq', 'fun': inequality_constraint}\n",
        "\n",
        "constraint = [constraint1]\n",
        "\n",
        "x0 = [1,1,1,1] #starting point of variable search\n",
        "\n",
        "result = minimize(objective_fun, x0, method = 'SLSQP', bounds = bounds, constraints = constraint)\n",
        "\n",
        "\n",
        "constraint3 = {'type': 'ineq', 'fun': inequality_constraint3}\n",
        "\n",
        "constraint3 = [constraint3]\n",
        "\n",
        "result3 = minimize(objective_fun, x0, method = 'SLSQP', bounds = bounds, constraints = constraint3)\n",
        "  "
      ]
    },
    {
      "cell_type": "code",
      "execution_count": null,
      "metadata": {
        "colab": {
          "base_uri": "https://localhost:8080/"
        },
        "id": "QHyjQPOAjIsK",
        "outputId": "d56d2f74-62ea-4642-efeb-a927b7e2d959"
      },
      "outputs": [
        {
          "output_type": "stream",
          "name": "stdout",
          "text": [
            "     fun: 2.3533520037940914\n",
            "     jac: array([0.38834545, 0.55986235, 1.23303935, 2.6588639 ])\n",
            " message: 'Optimization terminated successfully.'\n",
            "    nfev: 12\n",
            "     nit: 2\n",
            "    njev: 2\n",
            "  status: 0\n",
            " success: True\n",
            "       x: array([0.89333994, 0.8462324 , 0.66134265, 0.26973639])\n"
          ]
        }
      ],
      "source": [
        "print(result) #seems to work more or less"
      ]
    },
    {
      "cell_type": "code",
      "source": [
        "print(result3)"
      ],
      "metadata": {
        "colab": {
          "base_uri": "https://localhost:8080/"
        },
        "id": "pov22sTieAsl",
        "outputId": "1dc1695a-5e97-47e4-e15c-dfca9dc275e4"
      },
      "execution_count": null,
      "outputs": [
        {
          "output_type": "stream",
          "name": "stdout",
          "text": [
            "     fun: 4.35335197659041\n",
            "     jac: array([0.38834548, 0.55986238, 1.23303938, 2.6588639 ])\n",
            " message: 'Optimization terminated successfully.'\n",
            "    nfev: 12\n",
            "     nit: 2\n",
            "    njev: 2\n",
            "  status: 0\n",
            " success: True\n",
            "       x: array([0.97912232, 0.96990148, 0.9337111 , 0.85705796])\n"
          ]
        }
      ]
    },
    {
      "cell_type": "code",
      "source": [
        "t1 = result.x[0]\n",
        "t2 = result.x[1]\n",
        "t3 = result.x[2]\n",
        "t4 = result.x[3]\n",
        "\n",
        "t13 = result3.x[0]\n",
        "t23 = result3.x[1]\n",
        "t33 = result3.x[2]\n",
        "t43 = result3.x[3]"
      ],
      "metadata": {
        "id": "gu7LM8JQfqKC"
      },
      "execution_count": null,
      "outputs": []
    },
    {
      "cell_type": "code",
      "source": [
        "optimized_diagnosis = intercept + untweakable_var + t1 * workload + t2 * work_intensity + t3 * social_distan + t4 * mental_exhaust\n",
        "print((optimized_diagnosis/7 * 100).round(3), '%')"
      ],
      "metadata": {
        "colab": {
          "base_uri": "https://localhost:8080/"
        },
        "id": "t6p4J3zkXlqh",
        "outputId": "65416d7e-4d7d-46dc-bdaa-9e98bb5454aa"
      },
      "execution_count": null,
      "outputs": [
        {
          "output_type": "stream",
          "name": "stdout",
          "text": [
            "14.286 %\n"
          ]
        }
      ]
    },
    {
      "cell_type": "code",
      "source": [
        "threshold_diagnosis = intercept + untweakable_var + t13 * workload + t23 * work_intensity + t33 * social_distan + t43 * mental_exhaust\n",
        "print((threshold_diagnosis/7 * 100).round(3), '%')"
      ],
      "metadata": {
        "colab": {
          "base_uri": "https://localhost:8080/"
        },
        "id": "NBv1dyCdek4K",
        "outputId": "86fce2a2-0e76-4045-9810-c68391bb8d0c"
      },
      "execution_count": null,
      "outputs": [
        {
          "output_type": "stream",
          "name": "stdout",
          "text": [
            "42.857 %\n"
          ]
        }
      ]
    },
    {
      "cell_type": "markdown",
      "metadata": {
        "id": "6yiIaE__j6U3"
      },
      "source": [
        "## 10.3) Recommendation (Front-end user Interface)\n",
        "\n"
      ]
    },
    {
      "cell_type": "code",
      "execution_count": null,
      "metadata": {
        "id": "g4hcWJhvjLUu"
      },
      "outputs": [],
      "source": [
        "def optimal_recommendation():\n",
        "  b = 1\n",
        "  for a in [t1,t2,t3,t4]:\n",
        "    if a <= b:\n",
        "      b = 0\n",
        "      print('Optimally:')\n",
        "\n",
        "  if t1 < 1:\n",
        "    print('you should decrease the workload by', (abs(1-t1) * 100).round(1),'%')\n",
        "  if t2 < 1:\n",
        "    print('you should decrease the work intensity by', (abs(1-t2) * 100).round(1),'%')\n",
        "  if t3 < 1:\n",
        "    print('you should decrease social_distan by', (abs(1-t3) * 100).round(1),'%') \n",
        "  if t4 < 1:\n",
        "    print('you should decrease mental_exhaust by', (abs(1-t4) * 100).round(1),'%')"
      ]
    },
    {
      "cell_type": "code",
      "source": [
        "optimal_recommendation()"
      ],
      "metadata": {
        "colab": {
          "base_uri": "https://localhost:8080/"
        },
        "id": "oGDCm4-zd8Ag",
        "outputId": "84a0d76a-f999-4dde-ee04-9352e5247ba6"
      },
      "execution_count": null,
      "outputs": [
        {
          "output_type": "stream",
          "name": "stdout",
          "text": [
            "Optimally:\n",
            "you should decrease the workload by 10.7 %\n",
            "you should decrease the work intensity by 15.4 %\n",
            "you should decrease social_distan by 33.9 %\n",
            "you should decrease mental_exhaust by 73.0 %\n"
          ]
        }
      ]
    },
    {
      "cell_type": "code",
      "source": [
        "def threshold_recommendation():\n",
        "  b = 1\n",
        "  for a in [t13,t23,t33,t43]:\n",
        "    if a <= b:\n",
        "      b = 0\n",
        "      print('Critically:')\n",
        "\n",
        "  if t13 < 1:\n",
        "    print('you should decrease the workload by', (abs(1-t13) * 100).round(1),'%')\n",
        "  else:\n",
        "    print(\"the workload's margin to critical threshold is\", (abs(1-t13) * 100).round(1),'%')\n",
        "\n",
        "  if t23 < 1:\n",
        "    print('you should decrease the work intensity by', (abs(1-t23) * 100).round(1),'%')\n",
        "  else:\n",
        "    print(\"the work intensity's margin to critical threshold is\", (abs(1-t23) * 100).round(1),'%')\n",
        "\n",
        "  if t33 < 1:\n",
        "    print('you should decrease social_distan by', (abs(1-t33) * 100).round(1),'%') \n",
        "  else:\n",
        "    print(\"the social state's margin to critical threshold is\", (abs(1-t33) * 100).round(1),'%')\n",
        "\n",
        "  if t43 < 1:\n",
        "    print('you should decrease mental_exhaust by', (abs(1-t43) * 100).round(1),'%')\n",
        "  else:\n",
        "    print(\"the mental exhaust's margin to critical threshold is\", (abs(1-t43) * 100).round(1),'%')"
      ],
      "metadata": {
        "id": "ZCD6f9RIgoIf"
      },
      "execution_count": null,
      "outputs": []
    },
    {
      "cell_type": "code",
      "source": [
        "threshold_recommendation()"
      ],
      "metadata": {
        "colab": {
          "base_uri": "https://localhost:8080/"
        },
        "id": "XuQGLVJph3-p",
        "outputId": "852af054-5015-48f4-891e-0ac9f22067a0"
      },
      "execution_count": null,
      "outputs": [
        {
          "output_type": "stream",
          "name": "stdout",
          "text": [
            "Critically:\n",
            "you should decrease the workload by 2.1 %\n",
            "you should decrease the work intensity by 3.0 %\n",
            "you should decrease social_distan by 6.6 %\n",
            "you should decrease mental_exhaust by 14.3 %\n"
          ]
        }
      ]
    },
    {
      "cell_type": "code",
      "execution_count": null,
      "metadata": {
        "id": "uB8IZWU5jarL"
      },
      "outputs": [],
      "source": [
        "def rediagnosis():\n",
        "  if t1 < 1:\n",
        "    tone = 1 + float(input(\"How much do you want to change the workload variable? \\n(Please write % in numerical format and don't forget the negative sign): \"))\n",
        "  if t2 < 1:\n",
        "    ttwo = 1 + float(input(\"\\nHow much do you want to change the work intensity variable? \\n(Please write % in numerical format and don't forget the negative sign): \"))\n",
        "  if t3 < 1:\n",
        "    tthree = 1 + float(input(\"\\nHow much do you want to change the social distanciation variable? \\n(Please write % in numerical format and don't forget the negative sign): \")) \n",
        "  if t4 < 1:\n",
        "    tfour = 1 + float(input(\"\\nHow much do you want to change the mental exhaustion variable? \\n(Please write % in numerical format and don't forget the negative sign): \"))\n",
        "     \n",
        "  \n",
        "  newd = intercept + tone * workload + ttwo * work_intensity + tthree * social_distan + tfour * mental_exhaust + untweakable_var\n",
        "  print('')\n",
        "\n",
        "  if newd/7 >= 0.45: #or any other value we decide\n",
        "    verdict = print('your employee is over the critical threshold of burn out') \n",
        "  else:\n",
        "    verdict = print('your employee is under the critical threhold of burn out')\n",
        "  print('burn out rate of', (newd/7 * 100).round(2), '%')"
      ]
    },
    {
      "cell_type": "code",
      "source": [
        "rediagnosis()"
      ],
      "metadata": {
        "id": "Ripy5ntqiDy-",
        "colab": {
          "base_uri": "https://localhost:8080/"
        },
        "outputId": "65d128a6-6e20-4ac0-af4b-56388d257eea"
      },
      "execution_count": null,
      "outputs": [
        {
          "output_type": "stream",
          "name": "stdout",
          "text": [
            "How much do you want to change the workload variable? \n",
            "(Please write % in numerical format and don't forget the negative sign): -0.4\n",
            "\n",
            "How much do you want to change the work intensity variable? \n",
            "(Please write % in numerical format and don't forget the negative sign): -0.4\n",
            "\n",
            "How much do you want to change the social distanciation variable? \n",
            "(Please write % in numerical format and don't forget the negative sign): -0.4\n",
            "\n",
            "How much do you want to change the mental exhaustion variable? \n",
            "(Please write % in numerical format and don't forget the negative sign): -0.4\n",
            "\n",
            "your employee is under the critical threhold of burn out\n",
            "burn out rate of 22.15 %\n"
          ]
        }
      ]
    }
  ],
  "metadata": {
    "colab": {
      "collapsed_sections": [],
      "name": "DataScience.ipynb",
      "provenance": []
    },
    "interpreter": {
      "hash": "bfc0f6a85987c314d4904a8509cf8b6c705fe5c82bab53a5001eb388f571bbe6"
    },
    "kernelspec": {
      "display_name": "Python 3.10.4 64-bit",
      "language": "python",
      "name": "python3"
    },
    "language_info": {
      "codemirror_mode": {
        "name": "ipython",
        "version": 3
      },
      "file_extension": ".py",
      "mimetype": "text/x-python",
      "name": "python",
      "nbconvert_exporter": "python",
      "pygments_lexer": "ipython3",
      "version": "3.10.4"
    }
  },
  "nbformat": 4,
  "nbformat_minor": 0
}